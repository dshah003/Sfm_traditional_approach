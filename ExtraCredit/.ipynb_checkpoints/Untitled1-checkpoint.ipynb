{
 "cells": [
  {
   "cell_type": "code",
   "execution_count": 3,
   "metadata": {},
   "outputs": [],
   "source": [
    "import cv2\n",
    "import numpy as np\n",
    "import matplotlib.pyplot as plt\n",
    "import math"
   ]
  },
  {
   "cell_type": "code",
   "execution_count": 4,
   "metadata": {},
   "outputs": [],
   "source": [
    "my_img = np.zeros((400, 400, 3), dtype = \"uint8\")\n",
    "# pts = np.array([[10,5],[20,30],[70,20],[50,10]], np.int32)\n",
    "# pts = pts.reshape((-1,1,2))\n",
    "# cv2.polylines(my_img,[pts],True,(0,255,255))\n",
    "cv2.imshow('Window', my_img)\n",
    "cv2.waitKey(0)\n",
    "cv2.destroyAllWindows()"
   ]
  },
  {
   "cell_type": "code",
   "execution_count": 9,
   "metadata": {},
   "outputs": [],
   "source": [
    "def drawCameras(C_set,R_set):\n",
    "    \n",
    "    scale = 0.3\n",
    "    line_width = 1\n",
    "    import matplotlib.pyplot as plt\n",
    "\n",
    "    "
   ]
  },
  {
   "cell_type": "code",
   "execution_count": 5,
   "metadata": {},
   "outputs": [],
   "source": [
    "C_set = np.array([[-0.76056042,  0.0255314 ,  0.64876497],[ 0.76056042, -0.0255314 , -0.64876497],[-0.76056042,  0.0255314 ,  0.64876497],[ 0.76056042, -0.0255314 , -0.64876497]])\n",
    "R_set = np.array([np.array([[ 0.99638539,  0.06585649, -0.05365701],\n",
    "       [-0.05876457,  0.9904841 ,  0.12445066],\n",
    "       [ 0.0613423 , -0.12084768,  0.99077392]]), \n",
    "  np.array([[ 0.99638539,  0.06585649, -0.05365701],\n",
    "       [-0.05876457,  0.9904841 ,  0.12445066],\n",
    "       [ 0.0613423 , -0.12084768,  0.99077392]]), \n",
    "  np.array([[ 0.09808373,  0.09112491, -0.99099739],\n",
    "       [ 0.02202412, -0.99575384, -0.08938245],\n",
    "       [-0.99493443, -0.01305889, -0.09967419]]), \n",
    "  np.array([[ 0.09808373,  0.09112491, -0.99099739],\n",
    "       [ 0.02202412, -0.99575384, -0.08938245],\n",
    "       [-0.99493443, -0.01305889, -0.09967419]])])\n",
    "# [[ 0.99638539  0.06585649 -0.05365701]\n",
    "#  [-0.05876457  0.9904841   0.12445066]\n",
    "#  [ 0.0613423  -0.12084768  0.99077392]]\n",
    "# [ 0.76056042 -0.0255314  -0.64876497] "
   ]
  },
  {
   "cell_type": "code",
   "execution_count": 19,
   "metadata": {},
   "outputs": [
    {
     "data": {
      "text/plain": [
       "-0.76056042"
      ]
     },
     "execution_count": 19,
     "metadata": {},
     "output_type": "execute_result"
    }
   ],
   "source": [
    "C_set[0][0]"
   ]
  },
  {
   "cell_type": "code",
   "execution_count": 6,
   "metadata": {},
   "outputs": [],
   "source": [
    "# Checks if a matrix is a valid rotation matrix.\n",
    "def isRotationMatrix(R) :\n",
    "    Rt = np.transpose(R)\n",
    "    shouldBeIdentity = np.dot(Rt, R)\n",
    "    I = np.identity(3, dtype = R.dtype)\n",
    "    n = np.linalg.norm(I - shouldBeIdentity)\n",
    "    return n < 1e-6\n",
    "\n",
    "\n",
    "# Calculates rotation matrix to euler angles\n",
    "# The result is the same as MATLAB except the order\n",
    "# of the euler angles ( x and z are swapped ).\n",
    "def rotationMatrixToEulerAngles(R) :\n",
    " \n",
    "    assert(isRotationMatrix(R))\n",
    "     \n",
    "    sy = math.sqrt(R[0,0] * R[0,0] +  R[1,0] * R[1,0])\n",
    "     \n",
    "    singular = sy < 1e-6\n",
    " \n",
    "    if  not singular :\n",
    "        x = math.atan2(R[2,1] , R[2,2])\n",
    "        y = math.atan2(-R[2,0], sy)\n",
    "        z = math.atan2(R[1,0], R[0,0])\n",
    "    else :\n",
    "        x = math.atan2(-R[1,2], R[1,1])\n",
    "        y = math.atan2(-R[2,0], sy)\n",
    "        z = 0\n",
    " \n",
    "    return np.array([x, y, z])"
   ]
  },
  {
   "cell_type": "code",
   "execution_count": 26,
   "metadata": {},
   "outputs": [],
   "source": [
    "R1  = rotationMatrixToEulerAngles(R_set[0])\n",
    "\n",
    "R1 = np.rad2deg(R1)"
   ]
  },
  {
   "cell_type": "code",
   "execution_count": 43,
   "metadata": {},
   "outputs": [
    {
     "data": {
      "text/plain": [
       "0.64876497"
      ]
     },
     "execution_count": 43,
     "metadata": {},
     "output_type": "execute_result"
    }
   ],
   "source": [
    "C_set[0][2]"
   ]
  },
  {
   "cell_type": "code",
   "execution_count": 12,
   "metadata": {},
   "outputs": [
    {
     "data": {
      "image/png": "[encoded data removed]",
      "text/plain": [
       "<Figure size 432x288 with 1 Axes>"
      ]
     },
     "metadata": {
      "needs_background": "light"
     },
     "output_type": "display_data"
    }
   ],
   "source": [
    "# x = [1,2,3]\n",
    "\n",
    "for i in range(0,len(C_set)):\n",
    "    R1  = rotationMatrixToEulerAngles(R_set[i])\n",
    "    R1 = np.rad2deg(R1)\n",
    "    plt.plot(C_set[i][0],C_set[i][2] , marker=(3, 0,int(R1[1])), markersize=15, linestyle='None')\n",
    "\n",
    "plt.xlim([-1,1])\n",
    "plt.ylim([-1,1])\n",
    "\n",
    "plt.show()\n",
    "    "
   ]
  }
 ],
 "metadata": {
  "kernelspec": {
   "display_name": "Python 2",
   "language": "python",
   "name": "python2"
  },
  "language_info": {
   "codemirror_mode": {
    "name": "ipython",
    "version": 2
   },
   "file_extension": ".py",
   "mimetype": "text/x-python",
   "name": "python",
   "nbconvert_exporter": "python",
   "pygments_lexer": "ipython2",
   "version": "2.7.12"
  }
 },
 "nbformat": 4,
 "nbformat_minor": 2
}
