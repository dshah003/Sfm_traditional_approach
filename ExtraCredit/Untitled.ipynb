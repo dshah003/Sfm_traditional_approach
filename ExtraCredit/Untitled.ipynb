{
 "cells": [
  {
   "cell_type": "code",
   "execution_count": 1,
   "metadata": {},
   "outputs": [],
   "source": [
    "import numpy as np\n",
    "import cv2\n",
    "from matplotlib import pyplot as plt\n",
    "\n",
    "from GetInliersRANSAC import GetInliersRANSAC\n",
    "from ExtractCameraPose import ExtractCameraPose\n",
    "from DrawCorrespondence import DrawCorrespondence\n",
    "from EssentialMatrixFromFundamentalMatrix import *\n",
    "from LinearTriangulation import *\n",
    "from DisambiguateCameraPose import *\n",
    "from NonLinearTriangulation import *\n",
    "from EstimateFundamentalMatrix import EstimateFundamentalMatrix\n",
    "# !pip install opencv-contrib-python\n",
    "\n",
    "%matplotlib inline"
   ]
  },
  {
   "cell_type": "code",
   "execution_count": 2,
   "metadata": {},
   "outputs": [],
   "source": [
    "img1 = cv2.imread('./Images/1.jpeg')  # queryImage\n",
    "img2 = cv2.imread('./Images/3.jpeg')  # trainImage\n",
    "\n",
    "gray1 = cv2.cvtColor(img1, cv2.COLOR_BGR2GRAY)\n",
    "gray2 = cv2.cvtColor(img2, cv2.COLOR_BGR2GRAY)"
   ]
  },
  {
   "cell_type": "code",
   "execution_count": 3,
   "metadata": {},
   "outputs": [
    {
     "name": "stdout",
     "output_type": "stream",
     "text": [
      "Reached Here\n",
      "crossed\n"
     ]
    },
    {
     "ename": "ValueError",
     "evalue": "too many values to unpack",
     "output_type": "error",
     "traceback": [
      "\u001b[0;31m--\u001b[0m",
      "\u001b[0;31mValueError\u001b[0mTraceback (most recent call last)",
      "\u001b[0;32m<ipython-input-3-5610d63b56b0>\u001b[0m in \u001b[0;36m<module>\u001b[0;34m()\u001b[0m\n\u001b[1;32m     29\u001b[0m \u001b[0;31m# Apply ratio test\u001b[0m\u001b[0;34m\u001b[0m\u001b[0;34m\u001b[0m\u001b[0m\n\u001b[1;32m     30\u001b[0m \u001b[0mgood\u001b[0m \u001b[0;34m=\u001b[0m \u001b[0;34m[\u001b[0m\u001b[0;34m]\u001b[0m\u001b[0;34m\u001b[0m\u001b[0m\n\u001b[0;32m---> 31\u001b[0;31m \u001b[0;32mfor\u001b[0m \u001b[0mm\u001b[0m\u001b[0;34m,\u001b[0m\u001b[0mn\u001b[0m \u001b[0;32min\u001b[0m \u001b[0mmatches\u001b[0m\u001b[0;34m:\u001b[0m\u001b[0;34m\u001b[0m\u001b[0m\n\u001b[0m\u001b[1;32m     32\u001b[0m     \u001b[0;32mif\u001b[0m \u001b[0mm\u001b[0m\u001b[0;34m.\u001b[0m\u001b[0mdistance\u001b[0m \u001b[0;34m<\u001b[0m \u001b[0;36m0.75\u001b[0m\u001b[0;34m*\u001b[0m\u001b[0mn\u001b[0m\u001b[0;34m.\u001b[0m\u001b[0mdistance\u001b[0m\u001b[0;34m:\u001b[0m\u001b[0;34m\u001b[0m\u001b[0m\n\u001b[1;32m     33\u001b[0m         \u001b[0mgood\u001b[0m\u001b[0;34m.\u001b[0m\u001b[0mappend\u001b[0m\u001b[0;34m(\u001b[0m\u001b[0;34m[\u001b[0m\u001b[0mm\u001b[0m\u001b[0;34m]\u001b[0m\u001b[0;34m)\u001b[0m\u001b[0;34m\u001b[0m\u001b[0m\n",
      "\u001b[0;31mValueError\u001b[0m: too many values to unpack"
     ]
    }
   ],
   "source": [
    "# # ORB Detector\n",
    "# orb = cv2.ORB_create()\n",
    "# kp1, des1 = orb.detectAndCompute(gray1, None)\n",
    "# kp2, des2 = orb.detectAndCompute(gray2, None)\n",
    "# print(\"len(des1) = \", len(des1))\n",
    "# print(\"len(des2) = \", len(des2))\n",
    "\n",
    "# # # Brute Force Matching\n",
    "# bf = cv2.BFMatcher(cv2.NORM_HAMMING, crossCheck=True)\n",
    "# good = bf.match(des1, des2)\n",
    "# print(\"Matches Found\")\n",
    "\n",
    "#---------------------------------------------------------#\n",
    "\n",
    "# # Initiate SIFT detector\n",
    "sift = cv2.xfeatures2d.SIFT_create()\n",
    "# sift = cv2.SIFT()\n",
    "\n",
    "# find the keypoints and descriptors with SIFT\n",
    "kp1, des1 = sift.detectAndCompute(gray1,None)\n",
    "kp2, des2 = sift.detectAndCompute(gray2,None)\n",
    "\n",
    "print(\"Reached Here\")\n",
    "# BFMatcher with default params\n",
    "bf = cv2.BFMatcher()\n",
    "matches = bf.knnMatch(des1,des2, k=20)\n",
    "\n",
    "print(\"crossed\")\n",
    "# Apply ratio test\n",
    "good = []\n",
    "for m,n in matches:\n",
    "    if m.distance < 0.75*n.distance:\n",
    "        good.append([m])\n",
    "\n",
    "# cv2.drawMatchesKnn expects list of lists as matches."
   ]
  },
  {
   "cell_type": "code",
   "execution_count": null,
   "metadata": {},
   "outputs": [],
   "source": [
    "img3 = cv2.drawMatchesKnn(img1,kp1,img2,kp2,good,flags=2)\n",
    "\n",
    "plt.imshow(img3),plt.show()"
   ]
  },
  {
   "cell_type": "code",
   "execution_count": null,
   "metadata": {},
   "outputs": [],
   "source": [
    "pts1 = np.float32([ kp1[m.queryIdx].pt for m in good ]).reshape(-1,2)\n",
    "pts2 = np.float32([ kp2[m.trainIdx].pt for m in good ]).reshape(-1,2)\n",
    "# _, pts1, pts2 = GetInliersRANSAC(np.float32(pts1), np.float32(pts2))"
   ]
  },
  {
   "cell_type": "code",
   "execution_count": null,
   "metadata": {},
   "outputs": [],
   "source": [
    "pts1.shape"
   ]
  },
  {
   "cell_type": "code",
   "execution_count": null,
   "metadata": {},
   "outputs": [],
   "source": [
    "visualize = True\n",
    "\n",
    "K = np.array([[3.79728180e+03,0.00000000e+00,2.08038461e+03],\n",
    " [0.00000000e+00,3.83458104e+03,1.76272469e+03],\n",
    " [0.00000000e+00,0.00000000e+00,1.00000000e+00]])\n",
    "\n",
    "best_F = EstimateFundamentalMatrix(np.float32(pts1), np.float32(pts2))\n",
    "\n",
    "if (visualize):\n",
    "    out = DrawCorrespondence(img1, img2, pts1, pts2)\n",
    "    cv2.namedWindow('image', cv2.WINDOW_NORMAL)\n",
    "    cv2.resizeWindow('image', 1000, 600)\n",
    "    cv2.imshow('image', out)\n",
    "    cv2.waitKey(0)\n",
    "    cv2.destroyAllWindows()\n",
    "\n",
    "E = EssentialMatrixFromFundamentalMatrix(best_F, K)\n",
    "R_set, C_set = ExtractCameraPose(E, K)\n",
    "# print(R_set)\n",
    "# print(C_set)\n",
    "X_set = []\n",
    "\n",
    "for n in range(0, 4):\n",
    "    X1 = LinearTriangulation(K, np.zeros((3, 1)), np.identity(3),\n",
    "                            C_set[n].T, R_set[n], np.float32(pts1),\n",
    "                            np.float32(pts2))\n",
    "    X_set.append(X1)\n",
    "    \n",
    "\n",
    "X, R, C = DisambiguateCameraPose(C_set, R_set, X_set)\n",
    "\n",
    "\n",
    "# Plotting Linear Triangulation output\n",
    "plt.scatter(X[:, 0], X[:, 2], c=X[:, 2],cmap='viridis', s=4)\n",
    "ax = plt.gca()\n",
    "ax.set_xlabel('x')\n",
    "ax.set_ylabel('z')\n",
    "\n",
    "# ax.set_xlim([-0.5, 0.5])\n",
    "# ax.set_ylim([-0.1, 2])\n",
    "\n",
    "X = NonLinearTriangulation(K,np.float32(pts1),np.float32(pts2),X,np.eye(3),np.zeros((3,1)),R,C)\n",
    "\n"
   ]
  },
  {
   "cell_type": "code",
   "execution_count": null,
   "metadata": {},
   "outputs": [],
   "source": []
  },
  {
   "cell_type": "code",
   "execution_count": null,
   "metadata": {},
   "outputs": [],
   "source": []
  }
 ],
 "metadata": {
  "kernelspec": {
   "display_name": "Python 2",
   "language": "python",
   "name": "python2"
  },
  "language_info": {
   "codemirror_mode": {
    "name": "ipython",
    "version": 2
   },
   "file_extension": ".py",
   "mimetype": "text/x-python",
   "name": "python",
   "nbconvert_exporter": "python",
   "pygments_lexer": "ipython2",
   "version": "2.7.12"
  }
 },
 "nbformat": 4,
 "nbformat_minor": 2
}
