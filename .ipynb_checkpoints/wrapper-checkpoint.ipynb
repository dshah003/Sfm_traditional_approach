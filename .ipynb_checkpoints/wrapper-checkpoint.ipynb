{
 "cells": [
  {
   "cell_type": "code",
   "execution_count": 1,
   "metadata": {},
   "outputs": [],
   "source": [
    "import cv2\n",
    "from tqdm import tqdm\n",
    "import numpy as np\n",
    "import matplotlib.pyplot as plt\n",
    "from mpl_toolkits.mplot3d import axes3d, Axes3D\n",
    "import argparse\n",
    "from LoadData import *\n",
    "from GetInliersRANSAC import GetInliersRANSAC\n",
    "from ExtractCameraPose import ExtractCameraPose\n",
    "from DrawCorrespondence import DrawCorrespondence\n",
    "from EssentialMatrixFromFundamentalMatrix import *\n",
    "from LinearTriangulation import *\n",
    "from DisambiguateCameraPose import *\n",
    "from NonLinearTriangulation import *\n",
    "from EstimateFundamentalMatrix import EstimateFundamentalMatrix\n",
    "from PnPRANSAC import *"
   ]
  },
  {
   "cell_type": "code",
   "execution_count": 2,
   "metadata": {},
   "outputs": [],
   "source": [
    "# # import numpy as np\n",
    "# import LinearPnP as LPnP\n",
    "# import random\n",
    "\n",
    "\n",
    "# def proj3Dto2D(x3D, K, C, R):\n",
    "#     P = np.linalg.multi_dot(K, R, np.hstack(np.identity(3), -C))\n",
    "#     X3D = LPnP.convertHomogeneouos(x3D)\n",
    "\n",
    "#     u_rprj = (np.dot(P[1], X3D.H)).H / (np.dot(P[3], X3D.H)).H\n",
    "#     v_rprj = (np.dot(P[2], X3D.H)).H / (np.dot(P[3], X3D.H)).H\n",
    "#     X2D = np.hstack(u_rprj, v_rprj)\n",
    "#     return X2D\n",
    "\n",
    "\n",
    "# def PnPRANSAC(X, x, K):\n",
    "#     cnt = 0\n",
    "#     print(\"Shape of x = \", x.shape)\n",
    "#     M = x.shape[0]\n",
    "#     print(\"M = \", M)\n",
    "#     # p = 0.99\n",
    "#     threshold = 6\n",
    "#     # N = 1\n",
    "#     # idx = 0\n",
    "#     # X_ = LPnP.convertHomogeneouos(X)\n",
    "#     x_ = LPnP.convertHomogeneouos(x)\n",
    "\n",
    "#     Cnew = np.zeros((3, 1))\n",
    "#     Rnew = np.identity(3)\n",
    "\n",
    "#     for trails in range(500):\n",
    "#         # random.randrange(0, len(corr_list))\n",
    "#         random_idx = random.sample(range(M), 6)\n",
    "#         C, R = LPnP.LinearPnP(X[random_idx][:], x[random_idx][:], K)\n",
    "#         S = []\n",
    "#         for j in range(M):\n",
    "#             reprojection = proj3Dto2D(x_[j][:], K, C, R)\n",
    "#             e = np.square(np.sqrt((x_[j][1]) - reprojection[1]) +\n",
    "#                           np.square((x_[j][2] - reprojection[2])))\n",
    "#             if e < threshold:\n",
    "#                 S.append(j)\n",
    "#         countS = len(S)\n",
    "#         if(cnt < countS):\n",
    "#             cnt = countS\n",
    "#             Rnew = R\n",
    "#             Cnew = C\n",
    "\n",
    "#         if (countS == M):\n",
    "#             break\n",
    "#     print(\"Inliers = %d / %d \\n\", cnt, M)\n",
    "#     return Cnew, Rnew\n"
   ]
  },
  {
   "cell_type": "code",
   "execution_count": 3,
   "metadata": {},
   "outputs": [],
   "source": [
    "# Camera Intrinsic Matrix\n",
    "K = np.array([[568.996140852,0,643.21055941],\n",
    "         [0, 568.988362396, 477.982801038],\n",
    "         [0, 0, 1]])\n",
    "# img1 = 3\n",
    "# img2 = 5\n",
    "n_images = 6\n",
    "limit = 10"
   ]
  },
  {
   "cell_type": "code",
   "execution_count": 4,
   "metadata": {},
   "outputs": [],
   "source": [
    "# Parser = argparse.ArgumentParser()\n",
    "# Parser.add_argument('--DataPath', default=\"./Data/\", help='Folder of Images')\n",
    "# Parser.add_argument('--Visualize', default=False, help='Show correspondences')\n",
    "# Args = Parser.parse_args()\n",
    "DataPath = \"./Data/\" #Args.DataPath\n",
    "visualize = False  #Args.Visualize\n",
    "\n",
    "# Create matrices for All correspondences\n",
    "\n",
    "Mx,My,M,Color = loadData(DataPath)"
   ]
  },
  {
   "cell_type": "code",
   "execution_count": 5,
   "metadata": {},
   "outputs": [],
   "source": [
    "#  Filter M for inliers\n",
    "\n",
    "# for i in range(1, n_images):\n",
    "#     for j in range(i+1, n_images + 1):\n",
    "#             img1 = i\n",
    "#             img2 = j\n",
    "            \n",
    "#             print(\"Finding inliers between image \"+str(i)+ \" and \"+ str(j))\n",
    "#             output = np.logical_and(M[:, img1-1], M[:, img2-1])\n",
    "#             indices, = np.where(output == True)\n",
    "#             if(len(indices)<8):\n",
    "#                 continue\n",
    "#             rgb_list = Color[indices]\n",
    "#             pts1 = np.hstack((Mx[indices,img1-1].reshape((-1,1)),My[indices,img1-1].reshape((-1,1))))\n",
    "#             pts2 = np.hstack((Mx[indices,img2-1].reshape((-1,1)),My[indices,img2-1].reshape((-1,1))))\n",
    "\n",
    "\n",
    "#             _, inliers_a, inliers_b,inlier_index = GetInliersRANSAC(np.float32(pts1), np.float32(pts2),indices)\n",
    "#             assert len(inliers_a)== len(inliers_b)==len(inlier_index),\"Length not matched\"\n",
    "\n",
    "#             for k in indices:\n",
    "#                 if(np.isin(inlier_index,k)[0]):\n",
    "                    \n",
    "#                     M[k,i-1] = 0"
   ]
  },
  {
   "cell_type": "code",
   "execution_count": 6,
   "metadata": {},
   "outputs": [],
   "source": [
    "M = np.load('M.npy')"
   ]
  },
  {
   "cell_type": "code",
   "execution_count": null,
   "metadata": {},
   "outputs": [],
   "source": []
  },
  {
   "cell_type": "code",
   "execution_count": 9,
   "metadata": {},
   "outputs": [
    {
     "name": "stdout",
     "output_type": "stream",
     "text": [
      "('E svd U', array([[-0.76038821, -0.04098062, -0.64817464],\n",
      "       [ 0.14469053,  0.96223646, -0.23057677],\n",
      "       [-0.63314645,  0.26911259,  0.72574375]]))\n",
      "('E svd S', array([1.00000000e+00, 1.00000000e+00, 5.62318685e-17]))\n",
      "('E svd U[:, 2]', array([-0.64817464, -0.23057677,  0.72574375]))\n"
     ]
    },
    {
     "name": "stderr",
     "output_type": "stream",
     "text": [
      " 20%|██        | 2/10 [00:00<00:00, 11.82it/s]"
     ]
    },
    {
     "name": "stdout",
     "output_type": "stream",
     "text": [
      "1421\n",
      "1421\n",
      "(10331, 1)\n"
     ]
    },
    {
     "name": "stderr",
     "output_type": "stream",
     "text": [
      "100%|██████████| 10/10 [00:00<00:00, 11.76it/s]\n",
      " 30%|███       | 3/10 [00:00<00:00, 22.53it/s]"
     ]
    },
    {
     "name": "stdout",
     "output_type": "stream",
     "text": [
      "('Inliers = %d / %d \\n', 0, 1421)\n",
      "('gfg', 3)\n",
      "('Indices = ', 0)\n",
      "('Indices = ', 378)\n",
      "(1, 'Skiiping this frame')\n",
      "(10331, 1)\n"
     ]
    },
    {
     "name": "stderr",
     "output_type": "stream",
     "text": [
      "100%|██████████| 10/10 [00:00<00:00, 24.14it/s]\n"
     ]
    },
    {
     "name": "stdout",
     "output_type": "stream",
     "text": [
      "('Inliers = %d / %d \\n', 0, 606)\n",
      "('gfg', 4)\n",
      "('Indices = ', 1822)\n",
      "('Indices = ', 2410)\n"
     ]
    },
    {
     "name": "stderr",
     "output_type": "stream",
     "text": [
      " 10%|█         | 1/10 [00:00<00:01,  6.70it/s]"
     ]
    },
    {
     "name": "stdout",
     "output_type": "stream",
     "text": [
      "('Indices = ', 0)\n",
      "(10331, 1)\n"
     ]
    },
    {
     "name": "stderr",
     "output_type": "stream",
     "text": [
      "100%|██████████| 10/10 [00:01<00:00,  6.99it/s]\n",
      "  0%|          | 0/10 [00:00<?, ?it/s]"
     ]
    },
    {
     "name": "stdout",
     "output_type": "stream",
     "text": [
      "('Inliers = %d / %d \\n', 0, 2399)\n",
      "('gfg', 5)\n",
      "('Indices = ', 442)\n",
      "('Indices = ', 0)\n",
      "('Indices = ', 200)\n",
      "('Indices = ', 0)\n",
      "(10331, 1)\n"
     ]
    },
    {
     "name": "stderr",
     "output_type": "stream",
     "text": [
      "100%|██████████| 10/10 [00:00<00:00, 14.13it/s]\n",
      "  0%|          | 0/10 [00:00<?, ?it/s]"
     ]
    },
    {
     "name": "stdout",
     "output_type": "stream",
     "text": [
      "('Inliers = %d / %d \\n', 0, 967)\n",
      "('gfg', 6)\n",
      "('Indices = ', 0)\n",
      "('Indices = ', 0)\n",
      "('Indices = ', 0)\n",
      "('Indices = ', 0)\n",
      "('Indices = ', 1739)\n",
      "(10331, 1)\n"
     ]
    },
    {
     "name": "stderr",
     "output_type": "stream",
     "text": [
      "100%|██████████| 10/10 [00:00<00:00, 17.82it/s]\n"
     ]
    },
    {
     "name": "stdout",
     "output_type": "stream",
     "text": [
      "('Inliers = %d / %d \\n', 0, 854)\n",
      "('gfg', 7)\n",
      "('Indices = ', 0)\n",
      "('Indices = ', 0)\n",
      "('Indices = ', 0)\n",
      "('Indices = ', 0)\n",
      "('Indices = ', 554)\n",
      "('Indices = ', 1365)\n"
     ]
    }
   ],
   "source": [
    "recon_bin = np.zeros((M.shape[0],1))\n",
    "X_3D = np.zeros((M.shape[0],3))\n",
    "#  We have all inliers at this point in M\n",
    "img1 = 1\n",
    "img2 = 2\n",
    "\n",
    "output = np.logical_and(M[:, img1-1], M[:, img2-1])\n",
    "indices, = np.where(output == True)\n",
    "rgb_list = Color[indices]\n",
    "\n",
    "pts1 = np.hstack((Mx[indices,img1-1].reshape((-1,1)),My[indices,img1-1].reshape((-1,1))))\n",
    "pts2 = np.hstack((Mx[indices,img2-1].reshape((-1,1)),My[indices,img2-1].reshape((-1,1))))\n",
    "best_F = EstimateFundamentalMatrix(np.float32(pts1), np.float32(pts2))\n",
    "\n",
    "\n",
    "if(visualize):\n",
    "    out = DrawCorrespondence(img1, img2, pts1, pts2)\n",
    "    cv2.namedWindow('image',cv2.WINDOW_NORMAL)\n",
    "    cv2.resizeWindow('image', 1000,600)\n",
    "    cv2.imshow('image', out)\n",
    "    cv2.waitKey(0)\n",
    "    cv2.destroyAllWindows()\n",
    "\n",
    "\n",
    "E = EssentialMatrixFromFundamentalMatrix(best_F,K)\n",
    "R_set,C_set = ExtractCameraPose(E,K)\n",
    "\n",
    "X_set = []\n",
    "for n in range(0,4):\n",
    "    X_set.append(LinearTriangulation(K,np.zeros((3,1)),np.identity(3),C_set[n].T,R_set[n],np.float32(pts1),np.float32(pts2)))\n",
    "\n",
    "X, R, C = DisambiguateCameraPose(C_set, R_set, X_set)\n",
    "\n",
    "\n",
    "\n",
    "# X = NonLinearTriangulation(K,np.float32(pts1),np.float32(pts32),X,np.eye(3),np.zeros((3,1)),R,C)\n",
    "\n",
    "recon_bin[indices] = 1\n",
    "print(len(indices))\n",
    "print(X.shape[0])\n",
    "X_3D[indices,:] = X\n",
    "\n",
    "# fig = plt.figure(1)\n",
    "# ax = plt.axes(projection = '3d')\n",
    "\n",
    "# print(X.shape)\n",
    "# print(rgb_list[inlier_index].shape)\n",
    "\n",
    "# assert X.shape == rgb_list[inlier_index].shape, \"Num points same\"\n",
    "\n",
    "\n",
    "# ax.scatter3D(X[:,0], X[:,1], X[:,2], c=rgb_list[inlier_index]/255.0,s=1)\n",
    "# plt.scatter(X[:,0], X[:,2],c=rgb_list[inlier_index]/255.0,s=1)\n",
    "# axes = plt.gca()\n",
    "# axes.set_xlim([-limit,limit])\n",
    "# axes.set_ylim([-limit,limit])\n",
    "#         # axes.set_zlim([-limit,limit])\n",
    "# plt.show()\n",
    "\n",
    "\n",
    "Cset = []\n",
    "Rset = []\n",
    "\n",
    "Cset.append(C)\n",
    "Rset.append(R)\n",
    "\n",
    "r_indx = [img1,img2]\n",
    "\n",
    "for i in range(0,n_images):\n",
    "\n",
    "    if(np.isin(r_indx,i)[0]):\n",
    "        print(i,\"Skiiping this frame\")\n",
    "        continue\n",
    "\n",
    "    output = np.logical_and(recon_bin, M[:, i].reshape((-1,1)))\n",
    "    print(output.shape)\n",
    "    indices,_ = np.where(output == True)\n",
    "#     print(\"type indices\",type(indices))\n",
    "    if(len(indices)<8):\n",
    "        continue\n",
    "    \n",
    "#     print(\"M\",My[indices,i].reshape((-1,1)))\n",
    "    x = np.transpose([Mx[indices,i],My[indices,i]])\n",
    "    X = X_3D[indices,:]\n",
    "\n",
    "    C,R = PnPRANSAC(X,x,K)\n",
    "\n",
    "    # C,R = NonLinearPnP(X,x,K,C,R)\n",
    "\n",
    "    Cset.append(C)\n",
    "    Rset.append(R)\n",
    "    r_indx.append(i)\n",
    "    print(\"gfg\",len(r_indx))\n",
    "    for j in range(0,len(r_indx)-1):\n",
    "        output = np.logical_and(np.logical_and(1-recon_bin,M[:,r_indx[j]].reshape((-1,1))),M[:,i].reshape((-1,1)))\n",
    "#         print(\"output = \", np.shape(output))\n",
    "        indices,_ = np.where(output==True)\n",
    "        print(\"Indices = \", len(indices))\n",
    "        if(len(indices)<8):\n",
    "            continue\n",
    "\n",
    "        x1 = np.hstack((Mx[indices,r_indx[j]].reshape((-1,1)), My[indices,r_indx[j]].reshape((-1,1))))\n",
    "        x2 = np.hstack((Mx[indices,i].reshape((-1,1)) ,My[indices,i].reshape((-1,1))))\n",
    "#         print(\"x1\",x1.shape,x2.shape)\n",
    "#         print(j)\n",
    "        X = LinearTriangulation(K, Cset[j], Rset[j], C, R, x1, x2)\n",
    "\n",
    "        \n",
    "        # X = NonlinearTriangulation(K, x1, x2, X, Rset[j],Cset[j],R,C);\n",
    "        X_3D[indices,:] = X\n",
    "        recon_bin[indices] = 1"
   ]
  },
  {
   "cell_type": "code",
   "execution_count": 11,
   "metadata": {},
   "outputs": [
    {
     "data": {
      "text/plain": [
       "array([[-0.0261878 , -0.18380865, -0.08364568],\n",
       "       [ 0.        ,  0.        , -0.        ],\n",
       "       [-0.0261878 , -0.18380865, -0.08364568],\n",
       "       ...,\n",
       "       [ 0.        ,  0.        , -0.        ],\n",
       "       [ 0.        ,  0.        ,  0.        ],\n",
       "       [ 0.        ,  0.        ,  0.        ]])"
      ]
     },
     "execution_count": 11,
     "metadata": {},
     "output_type": "execute_result"
    }
   ],
   "source": []
  },
  {
   "cell_type": "code",
   "execution_count": 15,
   "metadata": {},
   "outputs": [],
   "source": [
    "# X_3D[1:20,0]"
   ]
  }
 ],
 "metadata": {
  "kernelspec": {
   "display_name": "Python 2",
   "language": "python",
   "name": "python2"
  },
  "language_info": {
   "codemirror_mode": {
    "name": "ipython",
    "version": 2
   },
   "file_extension": ".py",
   "mimetype": "text/x-python",
   "name": "python",
   "nbconvert_exporter": "python",
   "pygments_lexer": "ipython2",
   "version": "2.7.12"
  }
 },
 "nbformat": 4,
 "nbformat_minor": 2
}
