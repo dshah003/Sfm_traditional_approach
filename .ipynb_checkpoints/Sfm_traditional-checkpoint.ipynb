{
 "cells": [
  {
   "cell_type": "code",
   "execution_count": 3,
   "metadata": {},
   "outputs": [],
   "source": [
    "import numpy as np\n",
    "import cv2\n",
    "import matplotlib.pyplot as plt\n",
    "from findCorrespondance import findCorrespondance\n",
    "from IPython.core.debugger import Tracer\n",
    "from GetInliersRANSAC import GetInliersRANSAC\n",
    "from mpl_toolkits import mplot3d\n",
    "from ExtractCameraPose import ExtractCameraPose\n",
    "from DrawCorrespondence import DrawCorrespondence\n",
    "from EssentialMatrixFromFundamentalMatrix import EssentialMatrixFromFundamentalMatrix\n",
    "from LinearTriangulation import LinearTriangulation\n",
    "from DisambiguateCameraPose import DisambiguateCameraPose\n",
    "from NonLinearTriangulation import *\n",
    "\n",
    "%matplotlib inline\n"
   ]
  },
  {
   "cell_type": "markdown",
   "metadata": {},
   "source": [
    "#### Reject Outliers and Estimate Fundamental Matrix"
   ]
  },
  {
   "cell_type": "code",
   "execution_count": 4,
   "metadata": {},
   "outputs": [],
   "source": [
    "           \n",
    "#             for row in matching_list:\n",
    "#                 pt1 = (row[3], row[4])\n",
    "#                 pt2 = (row[5], row[6])\n",
    "#                 pts1.append(pt1)\n",
    "#                 pts2.append(pt2)\n",
    "\n",
    "#             best_F, inliers_a, inliers_b = GetInliersRANSAC(np.int32(pts1), np.int32(pts2))\n",
    "#             # finalF, inliers = GetInliersRANSAC(correspondence_list, elimination_threshold)\n",
    "#             print(\"Final F = \", best_F)\n",
    "#             all_Fs.append(best_F)\n",
    "#             all_inliers.append(np.hstack((inliers_a, inliers_b)))\n",
    "#             print(\"Total Number of points found between image \" + str(i) + \" and \"\n",
    "#                 + str(j) + \" is = \" + str(len(matching_list)))\n",
    "\n",
    "#             print(\"Number of inliners between image \" + str(i) + \" and \"\n",
    "#                 + str(j) + \" is = \" + str(len(inliers_a)))\n",
    "\n",
    "#             if (Show_correspondence == True):\n",
    "#                 out = DrawCorrespondence(i, j, inliers_a, inliers_b)\n",
    "#                 cv2.imshow(\"img3\", out)\n",
    "#                 cv2.waitKey(0)\n",
    "#                 cv2.destroyAllWindows()\n",
    "\n",
    "# print(\"shape of all_inliers\", np.shape(all_inliers))\n",
    "# print(\"shape of all_Fs\", np.shape(all_Fs))"
   ]
  },
  {
   "cell_type": "code",
   "execution_count": 5,
   "metadata": {
    "scrolled": true
   },
   "outputs": [],
   "source": [
    "\n",
    "\n",
    "all_Fs = []\n",
    "all_inliers = []\n",
    "\n",
    "n_images = 6\n",
    "Mx = []\n",
    "My = []\n",
    "M =[]\n",
    "for i in range(1, n_images):\n",
    "    mx = []\n",
    "    my = []\n",
    "    m =[]\n",
    "    for j in range(i+1, n_images + 1):\n",
    "#         if (i != j):\n",
    "#             print(\"\\n ---------- \\n\\n Finding Correspondance between image \"\n",
    "#                 + str(i)\n",
    "#                 + \" and \" + str(j) + \":\")\n",
    "        x_list,y_list,binary_list,rgb_list = findCorrespondance(i, j)\n",
    "#         Tracer()() \n",
    "        if(j==i+1):\n",
    "            mx = x_list\n",
    "            my = y_list\n",
    "            m = binary_list\n",
    "        else:\n",
    "            mx = np.hstack((mx,x_list[:,1].reshape((-1,1))))\n",
    "            my = np.hstack((my,y_list[:,1].reshape((-1,1))))\n",
    "            m = np.hstack((m,binary_list[:,1].reshape((-1,1))))\n",
    "#     Tracer()()          \n",
    "    if(i==1):\n",
    "        Mx = mx\n",
    "        My = my\n",
    "        M = m\n",
    "    else:   \n",
    "        \n",
    "        mx = np.hstack((np.zeros((mx.shape[0],i-1)),mx))\n",
    "        my = np.hstack((np.zeros((my.shape[0],i-1)),my))\n",
    "        m = np.hstack((np.zeros((m.shape[0],i-1)),m))\n",
    "        assert Mx.shape[1]==mx.shape[1],\"SHape not matched\"\n",
    "        Mx = np.vstack((Mx,mx))\n",
    "        assert My.shape[1]==my.shape[1],\"Shape My not matched\"\n",
    "        My = np.vstack((My,my))\n",
    "        M = np.vstack((M,m))  "
   ]
  },
  {
   "cell_type": "code",
   "execution_count": 8,
   "metadata": {},
   "outputs": [
    {
     "data": {
      "text/plain": [
       "(10331, 6)"
      ]
     },
     "execution_count": 8,
     "metadata": {},
     "output_type": "execute_result"
    }
   ],
   "source": []
  },
  {
   "cell_type": "code",
   "execution_count": 9,
   "metadata": {},
   "outputs": [
    {
     "ename": "ValueError",
     "evalue": "too many values to unpack",
     "output_type": "error",
     "traceback": [
      "\u001b[0;31m---\u001b[0m",
      "\u001b[0;31mValueError\u001b[0mTraceback (most recent call last)",
      "\u001b[0;32m<ipython-input-9-5595660295e4>\u001b[0m in \u001b[0;36m<module>\u001b[0;34m()\u001b[0m\n\u001b[1;32m     18\u001b[0m \u001b[0mpts1\u001b[0m \u001b[0;34m=\u001b[0m \u001b[0mnp\u001b[0m\u001b[0;34m.\u001b[0m\u001b[0mhstack\u001b[0m\u001b[0;34m(\u001b[0m\u001b[0;34m(\u001b[0m\u001b[0mMx\u001b[0m\u001b[0;34m[\u001b[0m\u001b[0mindices\u001b[0m\u001b[0;34m,\u001b[0m\u001b[0mimg1\u001b[0m\u001b[0;34m-\u001b[0m\u001b[0;36m1\u001b[0m\u001b[0;34m]\u001b[0m\u001b[0;34m.\u001b[0m\u001b[0mreshape\u001b[0m\u001b[0;34m(\u001b[0m\u001b[0;34m(\u001b[0m\u001b[0;34m-\u001b[0m\u001b[0;36m1\u001b[0m\u001b[0;34m,\u001b[0m\u001b[0;36m1\u001b[0m\u001b[0;34m)\u001b[0m\u001b[0;34m)\u001b[0m\u001b[0;34m,\u001b[0m\u001b[0mMy\u001b[0m\u001b[0;34m[\u001b[0m\u001b[0mindices\u001b[0m\u001b[0;34m,\u001b[0m\u001b[0mimg1\u001b[0m\u001b[0;34m-\u001b[0m\u001b[0;36m1\u001b[0m\u001b[0;34m]\u001b[0m\u001b[0;34m.\u001b[0m\u001b[0mreshape\u001b[0m\u001b[0;34m(\u001b[0m\u001b[0;34m(\u001b[0m\u001b[0;34m-\u001b[0m\u001b[0;36m1\u001b[0m\u001b[0;34m,\u001b[0m\u001b[0;36m1\u001b[0m\u001b[0;34m)\u001b[0m\u001b[0;34m)\u001b[0m\u001b[0;34m)\u001b[0m\u001b[0;34m)\u001b[0m\u001b[0;34m\u001b[0m\u001b[0m\n\u001b[1;32m     19\u001b[0m \u001b[0mpts2\u001b[0m \u001b[0;34m=\u001b[0m \u001b[0mnp\u001b[0m\u001b[0;34m.\u001b[0m\u001b[0mhstack\u001b[0m\u001b[0;34m(\u001b[0m\u001b[0;34m(\u001b[0m\u001b[0mMx\u001b[0m\u001b[0;34m[\u001b[0m\u001b[0mindices\u001b[0m\u001b[0;34m,\u001b[0m\u001b[0mimg2\u001b[0m\u001b[0;34m-\u001b[0m\u001b[0;36m1\u001b[0m\u001b[0;34m]\u001b[0m\u001b[0;34m.\u001b[0m\u001b[0mreshape\u001b[0m\u001b[0;34m(\u001b[0m\u001b[0;34m(\u001b[0m\u001b[0;34m-\u001b[0m\u001b[0;36m1\u001b[0m\u001b[0;34m,\u001b[0m\u001b[0;36m1\u001b[0m\u001b[0;34m)\u001b[0m\u001b[0;34m)\u001b[0m\u001b[0;34m,\u001b[0m\u001b[0mMy\u001b[0m\u001b[0;34m[\u001b[0m\u001b[0mindices\u001b[0m\u001b[0;34m,\u001b[0m\u001b[0mimg2\u001b[0m\u001b[0;34m-\u001b[0m\u001b[0;36m1\u001b[0m\u001b[0;34m]\u001b[0m\u001b[0;34m.\u001b[0m\u001b[0mreshape\u001b[0m\u001b[0;34m(\u001b[0m\u001b[0;34m(\u001b[0m\u001b[0;34m-\u001b[0m\u001b[0;36m1\u001b[0m\u001b[0;34m,\u001b[0m\u001b[0;36m1\u001b[0m\u001b[0;34m)\u001b[0m\u001b[0;34m)\u001b[0m\u001b[0;34m)\u001b[0m\u001b[0;34m)\u001b[0m\u001b[0;34m\u001b[0m\u001b[0m\n\u001b[0;32m---> 20\u001b[0;31m \u001b[0mbest_F\u001b[0m\u001b[0;34m,\u001b[0m \u001b[0minliers_a\u001b[0m\u001b[0;34m,\u001b[0m \u001b[0minliers_b\u001b[0m \u001b[0;34m=\u001b[0m \u001b[0mGetInliersRANSAC\u001b[0m\u001b[0;34m(\u001b[0m\u001b[0mnp\u001b[0m\u001b[0;34m.\u001b[0m\u001b[0mint32\u001b[0m\u001b[0;34m(\u001b[0m\u001b[0mpts1\u001b[0m\u001b[0;34m)\u001b[0m\u001b[0;34m,\u001b[0m \u001b[0mnp\u001b[0m\u001b[0;34m.\u001b[0m\u001b[0mint32\u001b[0m\u001b[0;34m(\u001b[0m\u001b[0mpts2\u001b[0m\u001b[0;34m)\u001b[0m\u001b[0;34m)\u001b[0m\u001b[0;34m\u001b[0m\u001b[0m\n\u001b[0m\u001b[1;32m     21\u001b[0m \u001b[0;31m# finalF, inliers = GetInliersRANSAC(correspondence_list, elimination_threshold)\u001b[0m\u001b[0;34m\u001b[0m\u001b[0;34m\u001b[0m\u001b[0m\n\u001b[1;32m     22\u001b[0m \u001b[0;32mprint\u001b[0m\u001b[0;34m(\u001b[0m\u001b[0;34m\"Final F = \"\u001b[0m\u001b[0;34m,\u001b[0m \u001b[0mbest_F\u001b[0m\u001b[0;34m)\u001b[0m\u001b[0;34m\u001b[0m\u001b[0m\n",
      "\u001b[0;31mValueError\u001b[0m: too many values to unpack"
     ]
    }
   ],
   "source": [
    "Show_correspondence = False\n",
    "img1 = 4\n",
    "img2 = 6\n",
    "\n",
    "for i in range(1, n_images):\n",
    "#     print(\"Executing i = \"+str(i))\n",
    "    for j in range(i+1, n_images + 1):\n",
    "    \n",
    "        img1 = i\n",
    "        img2 = j\n",
    "#         print(\"Executing J = \"+str(j))\n",
    "        output = np.logical_and(M[:, img1-1], M[:, img2-1])\n",
    "        indices, = np.where(output == True)\n",
    "        if (len(indices) < 8):\n",
    "#             print(\"Len(indices) = \" + str(len(indices)))\n",
    "            continue\n",
    "        \n",
    "        pts1 = np.hstack((Mx[indices,img1-1].reshape((-1,1)),My[indices,img1-1].reshape((-1,1))))\n",
    "        pts2 = np.hstack((Mx[indices,img2-1].reshape((-1,1)),My[indices,img2-1].reshape((-1,1))))\n",
    "        best_F, inliers_a, inliers_b = GetInliersRANSAC(np.int32(pts1), np.int32(pts2))\n",
    "        # finalF, inliers = GetInliersRANSAC(correspondence_list, elimination_threshold)\n",
    "        print(\"Final F = \", best_F)\n",
    "        all_Fs.append(best_F)\n",
    "        all_inliers.append(np.hstack((inliers_a, inliers_b)))\n",
    "        print(\"Total Number of points found between image \" + str(i) + \" and \"\n",
    "            + str(j) + \" is = \" + str(len(pts1)))\n",
    "\n",
    "        print(\"Number of inliners between image \" + str(i) + \" and \"\n",
    "            + str(j) + \" is = \" + str(len(inliers_a)))\n",
    "\n",
    "        if Show_correspondence is True:\n",
    "            out = DrawCorrespondence(img1, img2, inliers_a, inliers_b)\n",
    "\n",
    "            cv2.imshow(\"img3\", out)\n",
    "            cv2.waitKey(0)\n",
    "            cv2.destroyAllWindows()\n",
    "\n",
    "        print(\"shape of all_inliers\", np.shape(all_inliers))\n",
    "        print(\"shape of all_Fs\", np.shape(all_Fs))\n",
    "        # A = np.array(correspondence_list)\n",
    "        # print(A.shape)\n",
    "\n",
    "\n",
    "        K = np.array([[568.996140852,0,643.21055941],\n",
    "             [0, 568.988362396, 477.982801038],\n",
    "             [0, 0, 1]])\n",
    "        E = EssentialMatrixFromFundamentalMatrix(best_F,K)\n",
    "        print(E)\n",
    "        R_set,C_set = ExtractCameraPose(E,K)\n",
    "\n",
    "\n",
    "\n",
    "        X = []\n",
    "        for n in range(0,4):\n",
    "            X.append(LinearTriangulation(K,np.zeros((3,1)),np.identity(3),C_set[n].T,R_set[n],np.int32(inliers_a),np.int32(inliers_b)))\n",
    "\n",
    "\n",
    "        X_new, R, C = DisambiguateCameraPose(C_set, R_set, X)\n",
    "        X_new\n",
    "\n",
    "\n",
    "        plt.scatter(X_new[:,0], X_new[:,2], c=X_new[:,2],s = 1);  #viridis , cmap='viridis'\n",
    "        # plt.set_xlabel('x')\n",
    "        # ax.set_ylabel('y')\n",
    "        # plt.set_ylabel('z');\n",
    "        axes = plt.gca()\n",
    "        axes.set_xlim([-5,5])\n",
    "        axes.set_ylim([-5,5])\n",
    "        \n",
    "# #         fig = plt.figure()\n",
    "#         ax = plt.axes(projection='3d')\n",
    "    \n",
    "    \n",
    "#         # Data for three-dimensional scattered points\n",
    "#         ax.scatter3D(X_new[:,0], X_new[:,1], X_new[:,2], c=X_new[:,2], cmap='viridis');  #viridis\n",
    "#         # plt.scatter(all_X_new[:,0], all_X_new[:,2], c=all_X_new[:,2], cmap='viridis');  #viridis\n",
    "# #         ax = plt.gca()\n",
    "#         ax.set_xlabel('x')\n",
    "#         ax.set_ylabel('y')\n",
    "#         ax.set_zlabel('z')\n",
    "#         ax.set_xlim([-5,5])\n",
    "#         ax.set_ylim([-5,5])\n",
    "#         ax.set_zlim([-5,5])\n",
    "        "
   ]
  },
  {
   "cell_type": "code",
   "execution_count": 15,
   "metadata": {},
   "outputs": [],
   "source": [
    "# plt.scatter(X_new[:,0], X_new[:,2], c=X_new[:,2], cmap='viridis',s = 1);  #viridis\n",
    "# # plt.set_xlabel('x')\n",
    "# # ax.set_ylabel('y')\n",
    "# # plt.set_ylabel('z');\n",
    "# axes = plt.gca()\n",
    "# # axes.set_xlim([-1,1])\n",
    "# # axes.set_ylim([-2,2])"
   ]
  },
  {
   "cell_type": "code",
   "execution_count": null,
   "metadata": {},
   "outputs": [],
   "source": [
    "# plt.scatter(X_new[:,0], X_new[:,1], c=X_new[:,1], cmap='viridis',s = 1);  #viridis\n",
    "# # plt.set_xlabel('x')\n",
    "# # ax.set_ylabel('y')\n",
    "# # plt.set_ylabel('z');\n",
    "# axes = plt.gca()\n",
    "# # axes.set_xlim([-1,1])\n",
    "# # axes.set_ylim([-2,2])"
   ]
  }
 ],
 "metadata": {
  "kernelspec": {
   "display_name": "Python 2",
   "language": "python",
   "name": "python2"
  },
  "language_info": {
   "codemirror_mode": {
    "name": "ipython",
    "version": 2
   },
   "file_extension": ".py",
   "mimetype": "text/x-python",
   "name": "python",
   "nbconvert_exporter": "python",
   "pygments_lexer": "ipython2",
   "version": "2.7.12"
  }
 },
 "nbformat": 4,
 "nbformat_minor": 2
}
