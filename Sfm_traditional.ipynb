{
 "cells": [
  {
   "cell_type": "code",
   "execution_count": 33,
   "metadata": {},
   "outputs": [],
   "source": [
    "import numpy as np\n",
    "import cv2\n",
    "import matplotlib.pyplot as plt\n",
    "from io import StringIO\n",
    "from findCorrespondance import findCorrespondance\n",
    "from GetInliersRANSAC import *\n",
    "from EssentialMatrixFromFundamentalMatrix import *"
   ]
  },
  {
   "cell_type": "markdown",
   "metadata": {},
   "source": [
    "#### Reject Outliers and Estimate Fundamental Matrix"
   ]
  },
  {
   "cell_type": "code",
   "execution_count": 35,
   "metadata": {},
   "outputs": [
    {
     "name": "stdout",
     "output_type": "stream",
     "text": [
      "('Finding Correspondance between image ', 1, ' and ', 2, ':')\n",
      "('shape(correspondence_list): ', (4, 1426))\n",
      "('A shape : ', (14, 9))\n",
      "('U Shape: ', (14, 14))\n",
      "('S shape: ', (9,))\n",
      "('V shape: ', (9, 9))\n",
      "('F = ', array([[ 5.99781578e-04,  4.21685005e-01, -6.61163909e-01],\n",
      "       [-4.51854574e-01,  2.51736997e-01,  2.69846322e-01],\n",
      "       [-2.20118894e-02,  1.92921411e-01, -8.35426735e-02]]))\n"
     ]
    },
    {
     "ename": "IndexError",
     "evalue": "index 1 is out of bounds for size 1",
     "output_type": "error",
     "traceback": [
      "\u001b[0;31m---------------------------------------------------------------------------\u001b[0m",
      "\u001b[0;31mIndexError\u001b[0m                                Traceback (most recent call last)",
      "\u001b[0;32m<ipython-input-35-d8581ee842a9>\u001b[0m in \u001b[0;36m<module>\u001b[0;34m()\u001b[0m\n\u001b[1;32m      9\u001b[0m \u001b[0;31m#             correspondence_list = np.transpose(correspondence_list)\u001b[0m\u001b[0;34m\u001b[0m\u001b[0;34m\u001b[0m\u001b[0m\n\u001b[1;32m     10\u001b[0m             \u001b[0;32mprint\u001b[0m\u001b[0;34m(\u001b[0m\u001b[0;34m\"shape(correspondence_list): \"\u001b[0m\u001b[0;34m,\u001b[0m\u001b[0mnp\u001b[0m\u001b[0;34m.\u001b[0m\u001b[0mshape\u001b[0m\u001b[0;34m(\u001b[0m\u001b[0mcorrespondence_list\u001b[0m\u001b[0;34m)\u001b[0m\u001b[0;34m)\u001b[0m\u001b[0;34m\u001b[0m\u001b[0m\n\u001b[0;32m---> 11\u001b[0;31m             \u001b[0mfinalF\u001b[0m\u001b[0;34m,\u001b[0m \u001b[0minliers\u001b[0m \u001b[0;34m=\u001b[0m \u001b[0mGetInliersRANSAC\u001b[0m\u001b[0;34m(\u001b[0m\u001b[0mcorrespondence_list\u001b[0m\u001b[0;34m,\u001b[0m \u001b[0melimination_threshold\u001b[0m\u001b[0;34m)\u001b[0m\u001b[0;34m\u001b[0m\u001b[0m\n\u001b[0m\u001b[1;32m     12\u001b[0m \u001b[0;34m\u001b[0m\u001b[0m\n\u001b[1;32m     13\u001b[0m \u001b[0mA\u001b[0m \u001b[0;34m=\u001b[0m \u001b[0mnp\u001b[0m\u001b[0;34m.\u001b[0m\u001b[0marray\u001b[0m\u001b[0;34m(\u001b[0m\u001b[0mcorrespondence_list\u001b[0m\u001b[0;34m)\u001b[0m\u001b[0;34m\u001b[0m\u001b[0m\n",
      "\u001b[0;32m/home/mayank/CMSC733/Sfm_traditional_approach/GetInliersRANSAC.py\u001b[0m in \u001b[0;36mGetInliersRANSAC\u001b[0;34m(corr_list, thresh)\u001b[0m\n\u001b[1;32m     19\u001b[0m         \u001b[0;31m# Calculate Fundamental Matrix function on those points\u001b[0m\u001b[0;34m\u001b[0m\u001b[0;34m\u001b[0m\u001b[0m\n\u001b[1;32m     20\u001b[0m         \u001b[0;32mprint\u001b[0m\u001b[0;34m(\u001b[0m\u001b[0;34m\"shape of corr for Fundamental Matrix = \"\u001b[0m\u001b[0;34m,\u001b[0m \u001b[0mnp\u001b[0m\u001b[0;34m.\u001b[0m\u001b[0mshape\u001b[0m\u001b[0;34m(\u001b[0m\u001b[0mcorr\u001b[0m\u001b[0;34m)\u001b[0m\u001b[0;34m)\u001b[0m\u001b[0;34m\u001b[0m\u001b[0m\n\u001b[0;32m---> 21\u001b[0;31m         \u001b[0mf\u001b[0m \u001b[0;34m=\u001b[0m \u001b[0mEFM\u001b[0m\u001b[0;34m.\u001b[0m\u001b[0mEstimateFundamentalMatrix\u001b[0m\u001b[0;34m(\u001b[0m\u001b[0mcorr\u001b[0m\u001b[0;34m,\u001b[0m \u001b[0;36m15\u001b[0m\u001b[0;34m)\u001b[0m\u001b[0;34m\u001b[0m\u001b[0m\n\u001b[0m\u001b[1;32m     22\u001b[0m         \u001b[0minliers\u001b[0m \u001b[0;34m=\u001b[0m \u001b[0;34m[\u001b[0m\u001b[0;34m]\u001b[0m\u001b[0;34m\u001b[0m\u001b[0m\n\u001b[1;32m     23\u001b[0m \u001b[0;34m\u001b[0m\u001b[0m\n",
      "\u001b[0;32m/home/mayank/CMSC733/Sfm_traditional_approach/GetInliersRANSAC.py\u001b[0m in \u001b[0;36mgeometricDistance\u001b[0;34m(correspondence, f)\u001b[0m\n\u001b[1;32m     36\u001b[0m         \u001b[0;32mif\u001b[0m \u001b[0mlen\u001b[0m\u001b[0;34m(\u001b[0m\u001b[0mmaxInliers\u001b[0m\u001b[0;34m)\u001b[0m \u001b[0;34m>\u001b[0m \u001b[0;34m(\u001b[0m\u001b[0mlen\u001b[0m\u001b[0;34m(\u001b[0m\u001b[0mcorr\u001b[0m\u001b[0;34m)\u001b[0m \u001b[0;34m*\u001b[0m \u001b[0mthresh\u001b[0m\u001b[0;34m)\u001b[0m\u001b[0;34m:\u001b[0m\u001b[0;34m\u001b[0m\u001b[0m\n\u001b[1;32m     37\u001b[0m             \u001b[0;32mbreak\u001b[0m\u001b[0;34m\u001b[0m\u001b[0m\n\u001b[0;32m---> 38\u001b[0;31m     \u001b[0;32mreturn\u001b[0m \u001b[0mfinalF\u001b[0m\u001b[0;34m,\u001b[0m \u001b[0mmaxInliers\u001b[0m\u001b[0;34m\u001b[0m\u001b[0m\n\u001b[0m\u001b[1;32m     39\u001b[0m \u001b[0;34m\u001b[0m\u001b[0m\n\u001b[1;32m     40\u001b[0m \u001b[0;34m\u001b[0m\u001b[0m\n",
      "\u001b[0;31mIndexError\u001b[0m: index 1 is out of bounds for size 1"
     ]
    }
   ],
   "source": [
    "elimination_threshold = 5\n",
    "\n",
    "for i in range(1,6):\n",
    "    for j in range(i,6):\n",
    "        if (i != j):\n",
    "            print(\"Finding Correspondance between image \",i,\" and \",j,\":\")\n",
    "            matching_list =  findCorrespondance(i,j)\n",
    "            correspondence_list = [[row[3]for row in matching_list],[row[4]for row in matching_list], [row[5]for row in matching_list],[row[6]for row in matching_list]]\n",
    "#             correspondence_list = np.transpose(correspondence_list)\n",
    "            print(\"shape(correspondence_list): \",np.shape(correspondence_list))\n",
    "            finalF, inliers = GetInliersRANSAC(correspondence_list, elimination_threshold)\n",
    "\n",
    "A = np.array(correspondence_list)\n",
    "print A.shape"
   ]
  },
  {
   "cell_type": "code",
   "execution_count": 16,
   "metadata": {},
   "outputs": [
    {
     "ename": "NameError",
     "evalue": "name 'finalF' is not defined",
     "output_type": "error",
     "traceback": [
      "\u001b[0;31m---------------------------------------------------------------------------\u001b[0m",
      "\u001b[0;31mNameError\u001b[0m                                 Traceback (most recent call last)",
      "\u001b[0;32m<ipython-input-16-58d6a03b3567>\u001b[0m in \u001b[0;36m<module>\u001b[0;34m()\u001b[0m\n\u001b[0;32m----> 1\u001b[0;31m \u001b[0mE\u001b[0m \u001b[0;34m=\u001b[0m \u001b[0mgetEssentialMatrix\u001b[0m\u001b[0;34m(\u001b[0m\u001b[0mfinalF\u001b[0m\u001b[0;34m)\u001b[0m\u001b[0;34m\u001b[0m\u001b[0m\n\u001b[0m",
      "\u001b[0;31mNameError\u001b[0m: name 'finalF' is not defined"
     ]
    }
   ],
   "source": [
    "E = getEssentialMatrix(finalF)"
   ]
  },
  {
   "cell_type": "code",
   "execution_count": 24,
   "metadata": {},
   "outputs": [
    {
     "data": {
      "text/plain": [
       "4"
      ]
     },
     "execution_count": 24,
     "metadata": {},
     "output_type": "execute_result"
    }
   ],
   "source": [
    "len(correspondence_list)\n",
    "# len([row[3]for row in matching_list])"
   ]
  }
 ],
 "metadata": {
  "kernelspec": {
   "display_name": "Python 2",
   "language": "python",
   "name": "python2"
  },
  "language_info": {
   "codemirror_mode": {
    "name": "ipython",
    "version": 2
   },
   "file_extension": ".py",
   "mimetype": "text/x-python",
   "name": "python",
   "nbconvert_exporter": "python",
   "pygments_lexer": "ipython2",
   "version": "2.7.12"
  }
 },
 "nbformat": 4,
 "nbformat_minor": 2
}
