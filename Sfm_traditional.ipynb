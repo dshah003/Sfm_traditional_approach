{
 "cells": [
  {
   "cell_type": "code",
   "execution_count": 1,
   "metadata": {},
   "outputs": [],
   "source": [
    "import numpy as np\n",
    "import cv2\n",
    "import matplotlib.pyplot as plt\n",
    "from LoadData import loadData\n",
    "from IPython.core.debugger import Tracer\n",
    "from GetInliersRANSAC import GetInliersRANSAC\n",
    "from ExtractCameraPose import ExtractCameraPose\n",
    "from DrawCorrespondence import DrawCorrespondence\n",
    "from EssentialMatrixFromFundamentalMatrix import EssentialMatrixFromFundamentalMatrix\n",
    "from LinearTriangulation import LinearTriangulation\n",
    "from DisambiguateCameraPose import DisambiguateCameraPose\n",
    "from NonLinearTriangulation import *\n",
    "\n",
    "%matplotlib inline\n",
    "\n",
    "# plt.scatter(X_new[:,0], X_new[:,1], c=X_new[:,1], cmap='viridis',s = 1);  #viridis\n",
    "# plt.set_xlabel('x')\n",
    "# ax.set_ylabel('y')\n",
    "# plt.set_ylabel('z');\n",
    "# axes = plt.gca()\n",
    "# axes.set_xlim([-1,1])\n",
    "# axes.set_ylim([-2,2])"
   ]
  },
  {
   "cell_type": "markdown",
   "metadata": {},
   "source": [
    "#### Reject Outliers and Estimate Fundamental Matrix"
   ]
  },
  {
   "cell_type": "code",
   "execution_count": 2,
   "metadata": {
    "scrolled": true
   },
   "outputs": [],
   "source": [
    "Mx,My,M = loadData(\"Data/\")"
   ]
  },
  {
   "cell_type": "code",
   "execution_count": 3,
   "metadata": {},
   "outputs": [],
   "source": [
    "img1 = 1\n",
    "img2 = 4\n",
    "n_images = 6\n",
    "all_Fs = []\n",
    "all_inliers = []\n",
    "X_all = []\n",
    "visualize = False\n",
    "# i = 1\n",
    "# j = 4\n",
    "# for i in range(1, n_images):\n",
    "#     for j in range(i+1, n_images + 1):\n",
    "    \n",
    "#         img1 = i\n",
    "#         img2 = j\n",
    "\n",
    "output = np.logical_and(M[:, img1-1], M[:, img2-1])\n",
    "indices, = np.where(output == True)\n",
    "# if(len(indices)<8):\n",
    "#     continue\n",
    "pts1 = np.hstack((Mx[indices,img1-1].reshape((-1,1)),My[indices,img1-1].reshape((-1,1))))\n",
    "pts2 = np.hstack((Mx[indices,img2-1].reshape((-1,1)),My[indices,img2-1].reshape((-1,1))))\n",
    "best_F, inliers_a, inliers_b = GetInliersRANSAC(np.int32(pts1), np.int32(pts2))\n",
    "\n",
    "\n",
    "all_Fs.append(best_F)\n",
    "all_inliers.append(np.hstack((inliers_a, inliers_b)))\n",
    "\n",
    "if visualize is True:\n",
    "    out = DrawCorrespondence(img1, img2, inliers_a, inliers_b)\n",
    "\n",
    "    cv2.imshow(\"img3\", out)\n",
    "    cv2.waitKey(0)\n",
    "    cv2.destroyAllWindows()\n",
    "\n",
    "\n",
    "K = np.array([[568.996140852,0,643.21055941],\n",
    "     [0, 568.988362396, 477.982801038],\n",
    "     [0, 0, 1]])\n",
    "E = EssentialMatrixFromFundamentalMatrix(best_F,K)\n",
    "R_set,C_set = ExtractCameraPose(E,K)\n",
    "\n",
    "X = []\n",
    "for n in range(0,4):\n",
    "    X.append(LinearTriangulation(K,np.zeros((3,1)),np.identity(3),C_set[n].T,R_set[n],np.int32(pts1),np.int32(pts2)))\n",
    "\n",
    "X_new, R, C = DisambiguateCameraPose(C_set, R_set, X)\n",
    "# X_all.append(X_new)"
   ]
  },
  {
   "cell_type": "code",
   "execution_count": 4,
   "metadata": {},
   "outputs": [
    {
     "data": {
      "image/png": "[encoded data removed]",
      "text/plain": [
       "<Figure size 432x288 with 1 Axes>"
      ]
     },
     "metadata": {
      "needs_background": "light"
     },
     "output_type": "display_data"
    }
   ],
   "source": [
    "# print(len(X_all))\n",
    "# X_new = X_all[3]\n",
    "# for X_new in X_all[3]:\n",
    "plt.scatter(X_new[:,0], X_new[:,2], c=X_new[:,2], cmap='viridis',s = 1);  #viridis\n",
    "# plt.set_xlabel('x')\n",
    "# ax.set_ylabel('y')\n",
    "# plt.set_ylabel('z');\n",
    "axes = plt.gca()\n",
    "#     axes.set_xlim([-5,5])\n",
    "#     axes.set_ylim([-5,5])"
   ]
  },
  {
   "cell_type": "code",
   "execution_count": null,
   "metadata": {},
   "outputs": [],
   "source": []
  }
 ],
 "metadata": {
  "kernelspec": {
   "display_name": "Python 2",
   "language": "python",
   "name": "python2"
  },
  "language_info": {
   "codemirror_mode": {
    "name": "ipython",
    "version": 2
   },
   "file_extension": ".py",
   "mimetype": "text/x-python",
   "name": "python",
   "nbconvert_exporter": "python",
   "pygments_lexer": "ipython2",
   "version": "2.7.12"
  }
 },
 "nbformat": 4,
 "nbformat_minor": 2
}
