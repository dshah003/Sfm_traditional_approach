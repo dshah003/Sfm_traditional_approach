{
 "cells": [
  {
   "cell_type": "code",
   "execution_count": 1,
   "metadata": {},
   "outputs": [],
   "source": [
    "import numpy as np\n",
    "import cv2\n",
    "import matplotlib.pyplot as plt\n",
    "from io import StringIO\n",
    "from findCorrespondance import findCorrespondance\n",
    "from GetInliersRANSAC import *\n",
    "from EssentialMatrixFromFundamentalMatrix import *"
   ]
  },
  {
   "cell_type": "markdown",
   "metadata": {},
   "source": [
    "#### Reject Outliers and Estimate Fundamental Matrix"
   ]
  },
  {
   "cell_type": "code",
   "execution_count": 2,
   "metadata": {},
   "outputs": [
    {
     "name": "stdout",
     "output_type": "stream",
     "text": [
      "('Finding Correspondance between image ', 1, ' and ', 2, ':')\n",
      "('shape(correspondence_list): ', (4, 1426))\n",
      "Into GetInliersRANSAC now,\n",
      "('Shape of corr_list = ', 1426)\n",
      "('Running Ransac for ', '0/400')\n",
      "('Running Ransac for ', '40/400')\n",
      "('Running Ransac for ', '80/400')\n",
      "('Running Ransac for ', '120/400')\n",
      "('Running Ransac for ', '160/400')\n",
      "('Running Ransac for ', '200/400')\n",
      "('Running Ransac for ', '240/400')\n",
      "('Running Ransac for ', '280/400')\n",
      "('Running Ransac for ', '320/400')\n",
      "('Running Ransac for ', '360/400')\n",
      "('Running Ransac for ', '400/400')\n",
      "('Finding Correspondance between image ', 1, ' and ', 3, ':')\n",
      "('shape(correspondence_list): ', (4, 608))\n",
      "Into GetInliersRANSAC now,\n",
      "('Shape of corr_list = ', 608)\n",
      "('Running Ransac for ', '0/400')\n",
      "('Running Ransac for ', '40/400')\n",
      "('Running Ransac for ', '80/400')\n",
      "('Running Ransac for ', '120/400')\n",
      "('Running Ransac for ', '160/400')\n",
      "('Running Ransac for ', '200/400')\n",
      "('Running Ransac for ', '240/400')\n",
      "('Running Ransac for ', '280/400')\n",
      "('Running Ransac for ', '320/400')\n",
      "('Running Ransac for ', '360/400')\n",
      "('Running Ransac for ', '400/400')\n",
      "('Finding Correspondance between image ', 1, ' and ', 4, ':')\n",
      "('shape(correspondence_list): ', (4, 470))\n",
      "Into GetInliersRANSAC now,\n",
      "('Shape of corr_list = ', 470)\n",
      "('Running Ransac for ', '0/400')\n",
      "('Running Ransac for ', '40/400')\n",
      "('Running Ransac for ', '80/400')\n",
      "('Running Ransac for ', '120/400')\n",
      "('Running Ransac for ', '160/400')\n",
      "('Running Ransac for ', '200/400')\n",
      "('Running Ransac for ', '240/400')\n",
      "('Running Ransac for ', '280/400')\n",
      "('Running Ransac for ', '320/400')\n",
      "('Running Ransac for ', '360/400')\n",
      "('Running Ransac for ', '400/400')\n",
      "('Finding Correspondance between image ', 1, ' and ', 5, ':')\n",
      "('shape(correspondence_list): ', (4, 1))\n",
      "Into GetInliersRANSAC now,\n",
      "('Shape of corr_list = ', 1)\n",
      "('Running Ransac for ', '0/400')\n",
      "('Running Ransac for ', '40/400')\n",
      "('Running Ransac for ', '80/400')\n",
      "('Running Ransac for ', '120/400')\n",
      "('Running Ransac for ', '160/400')\n",
      "('Running Ransac for ', '200/400')\n",
      "('Running Ransac for ', '240/400')\n",
      "('Running Ransac for ', '280/400')\n",
      "('Running Ransac for ', '320/400')\n",
      "('Running Ransac for ', '360/400')\n",
      "('Running Ransac for ', '400/400')\n",
      "('Finding Correspondance between image ', 2, ' and ', 3, ':')\n",
      "('shape(correspondence_list): ', (4, 1821))\n",
      "Into GetInliersRANSAC now,\n",
      "('Shape of corr_list = ', 1821)\n",
      "('Running Ransac for ', '0/400')\n"
     ]
    },
    {
     "ename": "KeyboardInterrupt",
     "evalue": "",
     "output_type": "error",
     "traceback": [
      "\u001b[0;31m---------------------------------------------------------------------------\u001b[0m",
      "\u001b[0;31mKeyboardInterrupt\u001b[0m                         Traceback (most recent call last)",
      "\u001b[0;32m<ipython-input-2-d8581ee842a9>\u001b[0m in \u001b[0;36m<module>\u001b[0;34m()\u001b[0m\n\u001b[1;32m      9\u001b[0m \u001b[0;31m#             correspondence_list = np.transpose(correspondence_list)\u001b[0m\u001b[0;34m\u001b[0m\u001b[0;34m\u001b[0m\u001b[0m\n\u001b[1;32m     10\u001b[0m             \u001b[0;32mprint\u001b[0m\u001b[0;34m(\u001b[0m\u001b[0;34m\"shape(correspondence_list): \"\u001b[0m\u001b[0;34m,\u001b[0m\u001b[0mnp\u001b[0m\u001b[0;34m.\u001b[0m\u001b[0mshape\u001b[0m\u001b[0;34m(\u001b[0m\u001b[0mcorrespondence_list\u001b[0m\u001b[0;34m)\u001b[0m\u001b[0;34m)\u001b[0m\u001b[0;34m\u001b[0m\u001b[0m\n\u001b[0;32m---> 11\u001b[0;31m             \u001b[0mfinalF\u001b[0m\u001b[0;34m,\u001b[0m \u001b[0minliers\u001b[0m \u001b[0;34m=\u001b[0m \u001b[0mGetInliersRANSAC\u001b[0m\u001b[0;34m(\u001b[0m\u001b[0mcorrespondence_list\u001b[0m\u001b[0;34m,\u001b[0m \u001b[0melimination_threshold\u001b[0m\u001b[0;34m)\u001b[0m\u001b[0;34m\u001b[0m\u001b[0m\n\u001b[0m\u001b[1;32m     12\u001b[0m \u001b[0;34m\u001b[0m\u001b[0m\n\u001b[1;32m     13\u001b[0m \u001b[0mA\u001b[0m \u001b[0;34m=\u001b[0m \u001b[0mnp\u001b[0m\u001b[0;34m.\u001b[0m\u001b[0marray\u001b[0m\u001b[0;34m(\u001b[0m\u001b[0mcorrespondence_list\u001b[0m\u001b[0;34m)\u001b[0m\u001b[0;34m\u001b[0m\u001b[0m\n",
      "\u001b[0;32m/home/mayank/CMSC733/Sfm_traditional_approach/GetInliersRANSAC.pyc\u001b[0m in \u001b[0;36mGetInliersRANSAC\u001b[0;34m(corr_list, thresh)\u001b[0m\n\u001b[1;32m     27\u001b[0m             \u001b[0;31m# print(\"shape corr_list[\", i, \"]: \", np.shape(corr_list[i]))\u001b[0m\u001b[0;34m\u001b[0m\u001b[0;34m\u001b[0m\u001b[0m\n\u001b[1;32m     28\u001b[0m             \u001b[0md\u001b[0m \u001b[0;34m=\u001b[0m \u001b[0mgeometricDistance\u001b[0m\u001b[0;34m(\u001b[0m\u001b[0mcorr_list\u001b[0m\u001b[0;34m[\u001b[0m\u001b[0mi\u001b[0m\u001b[0;34m]\u001b[0m\u001b[0;34m,\u001b[0m \u001b[0mf\u001b[0m\u001b[0;34m)\u001b[0m\u001b[0;34m\u001b[0m\u001b[0m\n\u001b[0;32m---> 29\u001b[0;31m             \u001b[0;32mif\u001b[0m \u001b[0md\u001b[0m \u001b[0;34m<\u001b[0m \u001b[0mthresh\u001b[0m\u001b[0;34m:\u001b[0m\u001b[0;34m\u001b[0m\u001b[0m\n\u001b[0m\u001b[1;32m     30\u001b[0m                 \u001b[0minliers\u001b[0m\u001b[0;34m.\u001b[0m\u001b[0mappend\u001b[0m\u001b[0;34m(\u001b[0m\u001b[0mcorr_list\u001b[0m\u001b[0;34m[\u001b[0m\u001b[0mi\u001b[0m\u001b[0;34m]\u001b[0m\u001b[0;34m)\u001b[0m\u001b[0;34m\u001b[0m\u001b[0m\n\u001b[1;32m     31\u001b[0m         \u001b[0;31m# print(\"len(corr) = \", len(corr))\u001b[0m\u001b[0;34m\u001b[0m\u001b[0;34m\u001b[0m\u001b[0m\n",
      "\u001b[0;31mKeyboardInterrupt\u001b[0m: "
     ]
    }
   ],
   "source": [
    "elimination_threshold = 5\n",
    "\n",
    "for i in range(1,6):\n",
    "    for j in range(i,6):\n",
    "        if (i != j):\n",
    "            print(\"Finding Correspondance between image \",i,\" and \",j,\":\")\n",
    "            matching_list =  findCorrespondance(i,j)\n",
    "            correspondence_list = [[row[3]for row in matching_list],[row[4]for row in matching_list], [row[5]for row in matching_list],[row[6]for row in matching_list]]\n",
    "#             correspondence_list = np.transpose(correspondence_list)\n",
    "            print(\"shape(correspondence_list): \",np.shape(correspondence_list))\n",
    "            finalF, inliers = GetInliersRANSAC(correspondence_list, elimination_threshold)\n",
    "\n",
    "A = np.array(correspondence_list)\n",
    "print A.shape"
   ]
  },
  {
   "cell_type": "code",
   "execution_count": null,
   "metadata": {},
   "outputs": [],
   "source": [
    "E = getEssentialMatrix(finalF)"
   ]
  },
  {
   "cell_type": "code",
   "execution_count": null,
   "metadata": {},
   "outputs": [],
   "source": [
    "len(correspondence_list)\n",
    "# len([row[3]for row in matching_list])"
   ]
  }
 ],
 "metadata": {
  "kernelspec": {
   "display_name": "Python 2",
   "language": "python",
   "name": "python2"
  },
  "language_info": {
   "codemirror_mode": {
    "name": "ipython",
    "version": 2
   },
   "file_extension": ".py",
   "mimetype": "text/x-python",
   "name": "python",
   "nbconvert_exporter": "python",
   "pygments_lexer": "ipython2",
   "version": "2.7.12"
  }
 },
 "nbformat": 4,
 "nbformat_minor": 2
}
