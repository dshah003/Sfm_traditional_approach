{
 "cells": [
  {
   "cell_type": "code",
   "execution_count": 1,
   "metadata": {},
   "outputs": [],
   "source": [
    "import numpy as np\n",
    "import cv2\n",
    "# import matplotlib.pyplot as plt\n",
    "from findCorrespondance import findCorrespondance\n",
    "from GetInliersRANSAC import GetInliersRANSAC\n",
    "# from EstimateFundamentalMatrix import EstimateFundamentalMatrix\n",
    "# from EstimateFundamentalMatrix3 import *\n",
    "from DrawCorrespondence import DrawCorrespondence\n",
    "from EssentialMatrixFromFundamentalMatrix import EssentialMatrixFromFundamentalMatrix"
   ]
  },
  {
   "cell_type": "markdown",
   "metadata": {},
   "source": [
    "#### Reject Outliers and Estimate Fundamental Matrix"
   ]
  },
  {
   "cell_type": "code",
   "execution_count": 30,
   "metadata": {},
   "outputs": [
    {
     "name": "stdout",
     "output_type": "stream",
     "text": [
      "\n",
      " ---------- \n",
      "\n",
      " Finding Correspondance between image 1 and 2:\n",
      "('Final F = ', array([[-2.63876937e-07, -1.00990854e-05,  2.83757186e-03],\n",
      "       [ 1.22514282e-05, -7.41776906e-07, -4.14127322e-03],\n",
      "       [-4.47458632e-03,  2.15717310e-03,  1.00000000e+00]]))\n",
      "Total Number of points found between image 1 and 2 is = 1426\n",
      "Number of inliners between image 1 and 2 is = 1425\n",
      "\n",
      " ---------- \n",
      "\n",
      " Finding Correspondance between image 1 and 3:\n",
      "('Final F = ', array([[ 5.47881923e-08, -4.71776082e-06,  1.65851243e-03],\n",
      "       [ 5.77873516e-06,  1.12504617e-06, -6.92262763e-03],\n",
      "       [-2.74723092e-03,  5.74827349e-03,  1.00000000e+00]]))\n",
      "Total Number of points found between image 1 and 3 is = 608\n",
      "Number of inliners between image 1 and 3 is = 597\n",
      "\n",
      " ---------- \n",
      "\n",
      " Finding Correspondance between image 1 and 4:\n",
      "('Final F = ', array([[ 1.31267836e-06, -1.88899247e-05,  7.39116392e-03],\n",
      "       [ 2.08386910e-05, -4.65427675e-07, -4.60965433e-03],\n",
      "       [-1.09402524e-02,  3.73103340e-03,  1.00000000e+00]]))\n",
      "Total Number of points found between image 1 and 4 is = 470\n",
      "Number of inliners between image 1 and 4 is = 412\n",
      "\n",
      " ---------- \n",
      "\n",
      " Finding Correspondance between image 1 and 5:\n",
      "('Final F = ', array([[ 4.76303882e-05, -0.00000000e+00, -5.88235294e-02],\n",
      "       [-0.00000000e+00, -0.00000000e+00, -0.00000000e+00],\n",
      "       [-8.09716599e-04, -0.00000000e+00,  1.00000000e+00]]))\n",
      "Total Number of points found between image 1 and 5 is = 1\n",
      "Number of inliners between image 1 and 5 is = 1\n",
      "\n",
      " ---------- \n",
      "\n",
      " Finding Correspondance between image 1 and 6:\n",
      "('Final F = ', array([[-5.89685383e-07, -1.24635397e-04,  4.29190661e-02],\n",
      "       [ 1.33083813e-04, -8.75188705e-06, -1.15092583e-01],\n",
      "       [-4.46466109e-02,  1.13504680e-01,  1.00000000e+00]]))\n",
      "Total Number of points found between image 1 and 6 is = 2\n",
      "Number of inliners between image 1 and 6 is = 2\n",
      "\n",
      " ---------- \n",
      "\n",
      " Finding Correspondance between image 2 and 3:\n",
      "('Final F = ', array([[ 1.11144004e-07,  6.68912915e-06, -3.90695274e-03],\n",
      "       [-4.92264738e-06, -9.97189345e-08, -2.75496721e-03],\n",
      "       [ 2.82608553e-03,  1.03711528e-03,  1.00000000e+00]]))\n",
      "Total Number of points found between image 2 and 3 is = 1821\n",
      "Number of inliners between image 2 and 3 is = 1818\n",
      "\n",
      " ---------- \n",
      "\n",
      " Finding Correspondance between image 2 and 4:\n",
      "('Final F = ', array([[ 3.11618455e-08,  9.55684890e-06, -6.30864209e-03],\n",
      "       [-7.96693079e-06, -7.07767056e-07, -1.75669818e-03],\n",
      "       [ 5.06175882e-03,  6.25329938e-04,  1.00000000e+00]]))\n",
      "Total Number of points found between image 2 and 4 is = 873\n",
      "Number of inliners between image 2 and 4 is = 855\n",
      "\n",
      " ---------- \n",
      "\n",
      " Finding Correspondance between image 2 and 5:\n",
      "('Final F = ', array([[ 1.55393098e-09,  4.58230587e-07, -2.47969016e-04],\n",
      "       [ 2.08811241e-07,  4.77993594e-06, -2.69386269e-03],\n",
      "       [-6.89312530e-05, -1.78324039e-03,  1.00000000e+00]]))\n",
      "Total Number of points found between image 2 and 5 is = 3\n",
      "Number of inliners between image 2 and 5 is = 3\n",
      "\n",
      " ---------- \n",
      "\n",
      " Finding Correspondance between image 2 and 6:\n",
      "('Final F = ', array([[ 2.04745956e-07,  5.69998875e-08, -1.57631768e-04],\n",
      "       [ 1.88299516e-06,  4.45266134e-07, -1.41642668e-03],\n",
      "       [-1.33764709e-03, -3.01586240e-04,  1.00000000e+00]]))\n",
      "Total Number of points found between image 2 and 6 is = 4\n",
      "Number of inliners between image 2 and 6 is = 4\n",
      "\n",
      " ---------- \n",
      "\n",
      " Finding Correspondance between image 3 and 4:\n",
      "('Final F = ', array([[ 8.33308680e-07, -2.20555106e-05,  1.31335473e-02],\n",
      "       [ 2.31411601e-05,  1.45262976e-06, -5.16485812e-03],\n",
      "       [-1.39631954e-02,  2.63636284e-03,  1.00000000e+00]]))\n",
      "Total Number of points found between image 3 and 4 is = 1702\n",
      "Number of inliners between image 3 and 4 is = 1688\n",
      "\n",
      " ---------- \n",
      "\n",
      " Finding Correspondance between image 3 and 5:\n",
      "('Final F = ', array([[-4.24764061e-07, -7.11123085e-06,  4.42029657e-03],\n",
      "       [ 8.81030655e-06, -6.87411134e-07, -1.54738637e-03],\n",
      "       [-5.03230173e-03,  2.01672034e-04,  1.00000000e+00]]))\n",
      "Total Number of points found between image 3 and 5 is = 966\n",
      "Number of inliners between image 3 and 5 is = 962\n",
      "\n",
      " ---------- \n",
      "\n",
      " Finding Correspondance between image 3 and 6:\n",
      "('Final F = ', array([[ 1.60898033e-07, -5.97049879e-06,  3.22924354e-03],\n",
      "       [ 7.80468544e-06, -2.76354718e-07, -2.10331609e-03],\n",
      "       [-4.35190383e-03,  4.69071138e-04,  1.00000000e+00]]))\n",
      "Total Number of points found between image 3 and 6 is = 451\n",
      "Number of inliners between image 3 and 6 is = 448\n",
      "\n",
      " ---------- \n",
      "\n",
      " Finding Correspondance between image 4 and 5:\n",
      "('Final F = ', array([[-8.26153649e-07, -9.95505326e-06,  6.51058177e-03],\n",
      "       [ 1.17732154e-05, -1.79596866e-06, -1.05210880e-03],\n",
      "       [-7.24914759e-03,  5.54255921e-04,  1.00000000e+00]]))\n",
      "Total Number of points found between image 4 and 5 is = 1737\n",
      "Number of inliners between image 4 and 5 is = 1730\n",
      "\n",
      " ---------- \n",
      "\n",
      " Finding Correspondance between image 4 and 6:\n",
      "('Final F = ', array([[ 1.17516573e-07, -5.47872300e-06,  3.55926501e-03],\n",
      "       [ 7.19003762e-06, -8.08520399e-07, -3.52254770e-04],\n",
      "       [-4.99724979e-03, -5.95810871e-04,  1.00000000e+00]]))\n",
      "Total Number of points found between image 4 and 6 is = 951\n",
      "Number of inliners between image 4 and 6 is = 947\n",
      "\n",
      " ---------- \n",
      "\n",
      " Finding Correspondance between image 5 and 6:\n",
      "('Final F = ', array([[ 8.92388826e-07, -1.30713600e-05,  4.70722794e-03],\n",
      "       [ 1.42834480e-05,  1.53837512e-06, -1.59215964e-02],\n",
      "       [-6.85679288e-03,  1.46025332e-02,  1.00000000e+00]]))\n",
      "Total Number of points found between image 5 and 6 is = 1365\n",
      "Number of inliners between image 5 and 6 is = 1157\n",
      "('shape of all_inliers', (15,))\n",
      "('shape of all_Fs', (15, 3, 3))\n"
     ]
    }
   ],
   "source": [
    "\n",
    "Show_correspondence = False\n",
    "\n",
    "all_Fs = []\n",
    "all_inliers = []\n",
    "\n",
    "n_images = 6\n",
    "for i in range(1, n_images + 1):\n",
    "    for j in range(i, n_images + 1):\n",
    "        if (i != j):\n",
    "            print(\"\\n ---------- \\n\\n Finding Correspondance between image \"\n",
    "                + str(i)\n",
    "                + \" and \" + str(j) + \":\")\n",
    "            matching_list = findCorrespondance(i, j)\n",
    "\n",
    "            pts1 = []\n",
    "            pts2 = []\n",
    "            for row in matching_list:\n",
    "                pt1 = (row[3], row[4])\n",
    "                pt2 = (row[5], row[6])\n",
    "                pts1.append(pt1)\n",
    "                pts2.append(pt2)\n",
    "\n",
    "            best_F, inliers_a, inliers_b = GetInliersRANSAC(np.int32(pts1), np.int32(pts2))\n",
    "            # finalF, inliers = GetInliersRANSAC(correspondence_list, elimination_threshold)\n",
    "            print(\"Final F = \", best_F)\n",
    "            all_Fs.append(best_F)\n",
    "            all_inliers.append(np.hstack((inliers_a, inliers_b)))\n",
    "            print(\"Total Number of points found between image \" + str(i) + \" and \"\n",
    "                + str(j) + \" is = \" + str(len(matching_list)))\n",
    "\n",
    "            print(\"Number of inliners between image \" + str(i) + \" and \"\n",
    "                + str(j) + \" is = \" + str(len(inliers_a)))\n",
    "\n",
    "            if (Show_correspondence == True):\n",
    "                out = DrawCorrespondence(i, j, inliers_a, inliers_b)\n",
    "                cv2.imshow(\"img3\", out)\n",
    "                cv2.waitKey(0)\n",
    "                cv2.destroyAllWindows()\n",
    "\n",
    "print(\"shape of all_inliers\", np.shape(all_inliers))\n",
    "print(\"shape of all_Fs\", np.shape(all_Fs))"
   ]
  },
  {
   "cell_type": "code",
   "execution_count": 33,
   "metadata": {},
   "outputs": [],
   "source": [
    "# n_images = 6\n",
    "# reshaped = np.reshape(all_inliers,(len(all_inliers),-1))\n",
    "# reshaped = np.reshape(reshaped,(len(all_inliers),-1))"
   ]
  },
  {
   "cell_type": "code",
   "execution_count": 34,
   "metadata": {},
   "outputs": [
    {
     "data": {
      "text/plain": [
       "(15,)"
      ]
     },
     "execution_count": 34,
     "metadata": {},
     "output_type": "execute_result"
    }
   ],
   "source": [
    "np.shape(all_inliers)"
   ]
  },
  {
   "cell_type": "code",
   "execution_count": 36,
   "metadata": {},
   "outputs": [],
   "source": [
    "traing = np.zeros((n_images,n_images))"
   ]
  },
  {
   "cell_type": "code",
   "execution_count": 41,
   "metadata": {},
   "outputs": [
    {
     "data": {
      "text/plain": [
       "0.0"
      ]
     },
     "execution_count": 41,
     "metadata": {},
     "output_type": "execute_result"
    }
   ],
   "source": []
  }
 ],
 "metadata": {
  "kernelspec": {
   "display_name": "Python 2",
   "language": "python",
   "name": "python2"
  },
  "language_info": {
   "codemirror_mode": {
    "name": "ipython",
    "version": 2
   },
   "file_extension": ".py",
   "mimetype": "text/x-python",
   "name": "python",
   "nbconvert_exporter": "python",
   "pygments_lexer": "ipython2",
   "version": "2.7.12"
  }
 },
 "nbformat": 4,
 "nbformat_minor": 2
}
