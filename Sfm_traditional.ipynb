{
 "cells": [
  {
   "cell_type": "code",
   "execution_count": 1,
   "metadata": {},
   "outputs": [],
   "source": [
    "import numpy as np\n",
    "import cv2\n",
    "import matplotlib.pyplot as plt\n",
    "from io import StringIO\n",
    "from findCorrespondance import findCorrespondance\n",
    "from GetInliersRANSAC import *\n",
    "from EssentialMatrixFromFundamentalMatrix import *"
   ]
  },
  {
   "cell_type": "markdown",
   "metadata": {},
   "source": [
    "#### Reject Outliers and Estimate Fundamental Matrix"
   ]
  },
  {
   "cell_type": "code",
   "execution_count": 2,
   "metadata": {},
   "outputs": [
    {
     "name": "stdout",
     "output_type": "stream",
     "text": [
      "\n",
      " ---------- \n",
      "\n",
      " Finding Correspondance between image 1 and 2:\n",
      "Into GetInliersRANSAC now,\n",
      "Shape of corr_list = 1426\n",
      "Running Ransac for 0/1000\n",
      "Running Ransac for 100/1000\n"
     ]
    },
    {
     "ename": "KeyboardInterrupt",
     "evalue": "",
     "output_type": "error",
     "traceback": [
      "\u001b[0;31m--------\u001b[0m",
      "\u001b[0;31mKeyboardInterrupt\u001b[0mTraceback (most recent call last)",
      "\u001b[0;32m<ipython-input-2-15cf86098c44>\u001b[0m in \u001b[0;36m<module>\u001b[0;34m()\u001b[0m\n\u001b[1;32m     13\u001b[0m             \u001b[0;31m# print(\"shape(correspondence_list): \",\u001b[0m\u001b[0;34m\u001b[0m\u001b[0;34m\u001b[0m\u001b[0m\n\u001b[1;32m     14\u001b[0m                 \u001b[0;31m# np.shape(correspondence_list))\u001b[0m\u001b[0;34m\u001b[0m\u001b[0;34m\u001b[0m\u001b[0m\n\u001b[0;32m---> 15\u001b[0;31m             \u001b[0mfinalF\u001b[0m\u001b[0;34m,\u001b[0m \u001b[0minliers\u001b[0m \u001b[0;34m=\u001b[0m \u001b[0mGetInliersRANSAC\u001b[0m\u001b[0;34m(\u001b[0m\u001b[0mcorrespondence_list\u001b[0m\u001b[0;34m,\u001b[0m \u001b[0melimination_threshold\u001b[0m\u001b[0;34m)\u001b[0m\u001b[0;34m\u001b[0m\u001b[0m\n\u001b[0m\u001b[1;32m     16\u001b[0m             \u001b[0;32mprint\u001b[0m\u001b[0;34m(\u001b[0m\u001b[0;34m\"Final F = \"\u001b[0m\u001b[0;34m,\u001b[0m \u001b[0mfinalF\u001b[0m\u001b[0;34m)\u001b[0m\u001b[0;34m\u001b[0m\u001b[0m\n",
      "\u001b[0;32m/home/mayank/CMSC733/Sfm_traditional_approach/GetInliersRANSAC.pyc\u001b[0m in \u001b[0;36mGetInliersRANSAC\u001b[0;34m(corr_list, thresh)\u001b[0m\n\u001b[1;32m     27\u001b[0m         \u001b[0;32mfor\u001b[0m \u001b[0mj\u001b[0m \u001b[0;32min\u001b[0m \u001b[0mrange\u001b[0m\u001b[0;34m(\u001b[0m\u001b[0mlen\u001b[0m\u001b[0;34m(\u001b[0m\u001b[0mcorr_list\u001b[0m\u001b[0;34m)\u001b[0m\u001b[0;34m)\u001b[0m\u001b[0;34m:\u001b[0m\u001b[0;34m\u001b[0m\u001b[0m\n\u001b[1;32m     28\u001b[0m             \u001b[0;31m# print(\"shape corr_list[\", j, \"]: \", np.shape(corr_list[j]))\u001b[0m\u001b[0;34m\u001b[0m\u001b[0;34m\u001b[0m\u001b[0m\n\u001b[0;32m---> 29\u001b[0;31m             \u001b[0md\u001b[0m \u001b[0;34m=\u001b[0m \u001b[0mgeometricDistance\u001b[0m\u001b[0;34m(\u001b[0m\u001b[0mcorr_list\u001b[0m\u001b[0;34m[\u001b[0m\u001b[0mj\u001b[0m\u001b[0;34m]\u001b[0m\u001b[0;34m,\u001b[0m \u001b[0mf\u001b[0m\u001b[0;34m)\u001b[0m\u001b[0;34m\u001b[0m\u001b[0m\n\u001b[0m\u001b[1;32m     30\u001b[0m             \u001b[0;32mif\u001b[0m \u001b[0md\u001b[0m \u001b[0;34m<\u001b[0m \u001b[0mthresh\u001b[0m\u001b[0;34m:\u001b[0m\u001b[0;34m\u001b[0m\u001b[0m\n\u001b[1;32m     31\u001b[0m                 \u001b[0minliers\u001b[0m\u001b[0;34m.\u001b[0m\u001b[0mappend\u001b[0m\u001b[0;34m(\u001b[0m\u001b[0mcorr_list\u001b[0m\u001b[0;34m[\u001b[0m\u001b[0mj\u001b[0m\u001b[0;34m]\u001b[0m\u001b[0;34m)\u001b[0m\u001b[0;34m\u001b[0m\u001b[0m\n",
      "\u001b[0;32m/home/mayank/CMSC733/Sfm_traditional_approach/GetInliersRANSAC.pyc\u001b[0m in \u001b[0;36mgeometricDistance\u001b[0;34m(correspondence, f)\u001b[0m\n\u001b[1;32m     52\u001b[0m                                 correspondence[1].item(0), 1]))\n\u001b[1;32m     53\u001b[0m     p2 = np.transpose(np.matrix([correspondence[2].item(0),\n\u001b[0;32m---> 54\u001b[0;31m                                 correspondence[3].item(0), 1]))\n\u001b[0m\u001b[1;32m     55\u001b[0m \u001b[0;34m\u001b[0m\u001b[0m\n\u001b[1;32m     56\u001b[0m     \u001b[0mestimatep1\u001b[0m \u001b[0;34m=\u001b[0m \u001b[0mnp\u001b[0m\u001b[0;34m.\u001b[0m\u001b[0mdot\u001b[0m\u001b[0;34m(\u001b[0m\u001b[0mf\u001b[0m\u001b[0;34m,\u001b[0m \u001b[0mp1\u001b[0m\u001b[0;34m)\u001b[0m\u001b[0;34m\u001b[0m\u001b[0m\n",
      "\u001b[0;31mKeyboardInterrupt\u001b[0m: "
     ]
    }
   ],
   "source": [
    "elimination_threshold = 5\n",
    "all_inliers = []\n",
    "for i in range(1, 3):\n",
    "    for j in range(i, 3):\n",
    "        if (i != j):\n",
    "            print(\"\\n ---------- \\n\\n Finding Correspondance between image \" + str(i)\n",
    "                + \" and \" + str(j) + \":\")\n",
    "            matching_list = findCorrespondance(i, j)\n",
    "            correspondence_list = [[row[3]for row in matching_list],\n",
    "            [row[4]for row in matching_list],\n",
    "            [row[5]for row in matching_list], [row[6]for row in matching_list]]\n",
    "#             correspondence_list = np.transpose(correspondence_list)\n",
    "            # print(\"shape(correspondence_list): \",\n",
    "                # np.shape(correspondence_list))\n",
    "            finalF, inliers = GetInliersRANSAC(correspondence_list, elimination_threshold)\n",
    "            print(\"Final F = \", finalF)"
   ]
  },
  {
   "cell_type": "code",
   "execution_count": null,
   "metadata": {},
   "outputs": [],
   "source": [
    "inliers"
   ]
  },
  {
   "cell_type": "code",
   "execution_count": null,
   "metadata": {},
   "outputs": [],
   "source": [
    "            img1 = cv2.imread('Data/' + str(1) + '.jpg')\n",
    "            img2 = cv2.imread('Data/' + str(2) + '.jpg')\n",
    "\n",
    "            rows1, cols1 = img1.shape[:2]\n",
    "            rows2, cols2 = img2.shape[:2]\n",
    "            out = np.zeros((max([rows1, rows2]), cols1+cols2, 3), dtype='uint8')\n",
    "            out[:rows1, :cols1, :] = img1\n",
    "            out[:rows2, cols1:cols1+cols2, :] = img2"
   ]
  },
  {
   "cell_type": "code",
   "execution_count": null,
   "metadata": {},
   "outputs": [],
   "source": [
    "cv2.imshow(\"out\", out)\n",
    "cv2.waitKey(0)\n",
    "cv2.destroyAllWindows()"
   ]
  },
  {
   "cell_type": "code",
   "execution_count": null,
   "metadata": {},
   "outputs": [],
   "source": [
    "            kp1 = [[row[0] for row in inliers], [row[1] for row in inliers]]\n",
    "            kp1 = np.transpose(kp1)\n",
    "            kp2 = [[row[2] for row in inliers], [row[3] for row in inliers]]\n",
    "            kp2 = np.transpose(kp2)\n",
    "            print(\"Shape kp1 = \", np.shape(kp1))"
   ]
  },
  {
   "cell_type": "code",
   "execution_count": null,
   "metadata": {},
   "outputs": [],
   "source": [
    "len(kp1)"
   ]
  },
  {
   "cell_type": "code",
   "execution_count": null,
   "metadata": {},
   "outputs": [],
   "source": [
    "            \n",
    "            radius = 4\n",
    "            BLUE = (255, 0, 0)\n",
    "            GREEN = (0,255,0)\n",
    "            thickness = 2\n",
    "            for i in range(0, len(kp1)):\n",
    "                # Draw small circle on image 1\n",
    "                cv2.circle(out, (int(kp1[i][0]),int(kp1[i][1])), radius, BLUE, thickness)\n",
    "                \n",
    "                # Draw small circle on image 2\n",
    "                cv2.circle(out, (int(kp2[i][0])+cols1,int(kp2[i][1])), radius, GREEN, thickness)\n",
    "                \n",
    "                # Draw line connecting circles\n",
    "                cv2.line(out,(int(kp1[i][0]),int(kp1[i][1])),(int(kp2[i][0])+cols1,int(kp2[i][1])),BLUE,thickness)\n",
    "                \n",
    "                \n",
    "            # draw_params = dict(matchColor=(0, 255, 0),  # draw matches in green color\n",
    "            #        singlePointColor=None,\n",
    "            #        matchesMask=out,  # draw only inliers\n",
    "            #        flags=cv2.DRAW_MATCHES_FLAGS_DEFAULT)\n",
    "\n",
    "\n",
    "            # img3 = cv2.drawMatches(img1, kp1, img2, kp2, [match[0] for match in inliers], None, draw_params)\n",
    "            # , good, None, **draw_params)\n",
    "            cv2.imshow(\"img3\", out)\n",
    "\n",
    "            cv2.waitKey(300)\n",
    "            cv2.destroyAllWindows()\n",
    "# A = np.array(correspondence_list)\n",
    "# print(A.shape)"
   ]
  },
  {
   "cell_type": "code",
   "execution_count": null,
   "metadata": {},
   "outputs": [],
   "source": []
  }
 ],
 "metadata": {
  "kernelspec": {
   "display_name": "Python 2",
   "language": "python",
   "name": "python2"
  },
  "language_info": {
   "codemirror_mode": {
    "name": "ipython",
    "version": 2
   },
   "file_extension": ".py",
   "mimetype": "text/x-python",
   "name": "python",
   "nbconvert_exporter": "python",
   "pygments_lexer": "ipython2",
   "version": "2.7.12"
  }
 },
 "nbformat": 4,
 "nbformat_minor": 2
}
