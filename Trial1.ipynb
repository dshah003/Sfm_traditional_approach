{
 "cells": [
  {
   "cell_type": "code",
   "execution_count": 1,
   "metadata": {},
   "outputs": [],
   "source": [
    "import cv2\n",
    "import numpy as np\n",
    "import scipy.optimize as opt\n",
    "from tqdm import tqdm\n",
    "from IPython.core.debugger import Tracer\n",
    "from mpl_toolkits import mplot3d\n",
    "import matplotlib.pyplot as plt\n",
    "\n",
    "# %matplotlib inline\n",
    "# %matplotlib notebook"
   ]
  },
  {
   "cell_type": "code",
   "execution_count": 24,
   "metadata": {},
   "outputs": [
    {
     "name": "stdout",
     "output_type": "stream",
     "text": [
      "File opened\n",
      "Done extracting correspondance points. Format:R,G,B,u1,v1,u2,v2\n"
     ]
    }
   ],
   "source": [
    "def findCorrespondance( a , b):\n",
    "    matching_list = []\n",
    "    \n",
    "    if (a == 1):\n",
    "        with open(\"./Data/matching1.txt\") as f:\n",
    "            line_no = 1;\n",
    "            print(\"File opened\")\n",
    "            for line in f:\n",
    "                if line_no == 1:\n",
    "                    start_index = line.find(':')\n",
    "#                     print(\"start_index = \", start_index )\n",
    "                    end_index = len(line)\n",
    "#                     print(\"end_index = \", end_index)\n",
    "                    line_no += 1;\n",
    "                    nfeatures = line[start_index+2:end_index-1]\n",
    "                    nfeatures = int(nfeatures)\n",
    "#                     print(\"nfeatures = \",line[11:15])\n",
    "        #         print(\"type of v(line) = \",type(line))\n",
    "        #         print(line)\n",
    "                else:\n",
    "                    matching_list.append(line.rstrip('\\n'))\n",
    "    if (a == 2):\n",
    "        with open(\"./Data/matching2.txt\") as f:\n",
    "            line_no = 1;\n",
    "            print(\"File opened\")\n",
    "            for line in f:\n",
    "                if line_no == 1:\n",
    "                    start_index = line.find(':')\n",
    "#                     print(\"start_index = \", start_index )\n",
    "                    end_index = len(line)\n",
    "#                     print(\"end_index = \", end_index)\n",
    "                    line_no += 1;\n",
    "                    nfeatures = line[11:15]\n",
    "                    nfeatures = int(nfeatures)\n",
    "#                     print(\"nfeatures = \",line[11:15])\n",
    "        #         print(\"type of v(line) = \",type(line))\n",
    "        #         print(line)\n",
    "                else:\n",
    "                    matching_list.append(line.rstrip('\\n'))\n",
    "                    \n",
    "    if (a == 3):\n",
    "        with open(\"./Data/matching3.txt\") as f:\n",
    "            line_no = 1;\n",
    "            print(\"File opened\")\n",
    "            for line in f:\n",
    "                if line_no == 1:\n",
    "                    start_index = line.find(':')\n",
    "#                     print(\"start_index = \", start_index )\n",
    "                    end_index = len(line)\n",
    "#                     print(\"end_index = \", end_index)\n",
    "                    line_no += 1;\n",
    "                    nfeatures = line[11:15]\n",
    "                    nfeatures = int(nfeatures)\n",
    "#                     print(\"nfeatures = \",line[11:15])\n",
    "        #         print(\"type of v(line) = \",type(line))\n",
    "        #         print(line)\n",
    "                else:\n",
    "                    matching_list.append(line.rstrip('\\n'))\n",
    "                    \n",
    "    if (a == 4):\n",
    "        with open(\"./Data/matching4.txt\") as f:\n",
    "            line_no = 1;\n",
    "            print(\"File opened\")\n",
    "            for line in f:\n",
    "                if line_no == 1:\n",
    "                    start_index = line.find(':')\n",
    "#                     print(\"start_index = \", start_index )\n",
    "                    end_index = len(line)\n",
    "#                     print(\"end_index = \", end_index)\n",
    "                    line_no += 1;\n",
    "                    nfeatures = line[11:15]\n",
    "                    nfeatures = int(nfeatures)\n",
    "#                     print(\"nfeatures = \",line[11:15])\n",
    "        #         print(\"type of v(line) = \",type(line))\n",
    "        #         print(line)\n",
    "                else:\n",
    "                    matching_list.append(line.rstrip('\\n'))\n",
    "                    \n",
    "                    \n",
    "    if (a == 5):\n",
    "        with open(\"./Data/matching5.txt\") as f:\n",
    "            line_no = 1;\n",
    "            print(\"File opened\")\n",
    "            for line in f:\n",
    "                if line_no == 1:\n",
    "                    start_index = line.find(':')\n",
    "#                     print(\"start_index = \", start_index )\n",
    "                    end_index = len(line)\n",
    "#                     print(\"end_index = \", end_index)\n",
    "                    line_no += 1;\n",
    "                    nfeatures = line[11:15]\n",
    "                    nfeatures = int(nfeatures)\n",
    "#                     print(\"nfeatures = \",line[11:15])\n",
    "        #         print(\"type of v(line) = \",type(line))\n",
    "        #         print(line)\n",
    "                else:\n",
    "                    matching_list.append(line.rstrip('\\n'))\n",
    "                    \n",
    "                    \n",
    "\n",
    "    final_list = []\n",
    "    for i in range(0,len(matching_list)):\n",
    "        current_row = matching_list[i]\n",
    "        splitStr = current_row.split();\n",
    "        current_row = []\n",
    "        for j in splitStr:\n",
    "            current_row.append(float(j))\n",
    "        final_list.append(np.transpose(current_row))\n",
    "\n",
    "    output_list = []\n",
    "    \n",
    "    for i in range(0,len(final_list)):\n",
    "        new_row = []\n",
    "        current_row = final_list[i]\n",
    "        current_row = current_row[1:len(current_row)]\n",
    "#         print(\"len_current_row\",len(current_row))\n",
    "#         print(\"early Current Row = \",current_row)\n",
    "#         current_row = current_row\n",
    "        res = np.where(current_row == b)\n",
    "#         if(res[0])\n",
    "#         print(\"res = \",res)\n",
    "#         print(len(res[0]))\n",
    "        if(len(res[0]) != 0):\n",
    "#             if(res[0][0] is not 0): \n",
    "#                 res = np.where(current_row == b)\n",
    "#                 index = res[0][0]\n",
    "#                 new_row.append(current_row[1])\n",
    "#                 new_row.append(current_row[2])\n",
    "#                 new_row.append(current_row[3])\n",
    "#                 new_row.append(current_row[4])\n",
    "#                 new_row.append(current_row[5])\n",
    "#                 new_row.append(current_row[index+1])\n",
    "#                 new_row.append(current_row[index+2])\n",
    "#             else:\n",
    "#             current_row = current_row[1:len(current_row)-1]\n",
    "#             res = np.where(current_row == b)\n",
    "            index = res[0][0]\n",
    "#             print(\"index is = \",index)\n",
    "            new_row.append(current_row[0])\n",
    "            new_row.append(current_row[1])\n",
    "            new_row.append(current_row[2])\n",
    "            new_row.append(current_row[3])\n",
    "            new_row.append(current_row[4])\n",
    "            new_row.append(current_row[index+1])\n",
    "            new_row.append(current_row[index+2])\n",
    "                \n",
    "        if (len(new_row) is not 0):\n",
    "            output_list.append(np.transpose(new_row)) \n",
    "#     print(\"final List\", final_list)\n",
    "    matching_list = output_list\n",
    "    print(\"Done extracting correspondance points. Format:R,G,B,u1,v1,u2,v2\")\n",
    "    return matching_list\n",
    "\n",
    "#_________________________________________________________\n",
    "matching_list = findCorrespondance(1,4)\n",
    "pts1 = []\n",
    "pts2 = []\n",
    "for row in matching_list:\n",
    "    pt1 = (row[3],row[4])\n",
    "    pt2 = (row[5],row[6])\n",
    "    pts1.append(pt1)\n",
    "    pts2.append(pt2)\n",
    "    \n",
    "#_________________________________________________________\n",
    "\n",
    "\n",
    "def estimate_fundamental_matrix(points_a, points_b):\n",
    "    points_num = points_a.shape[0]\n",
    "    A = []\n",
    "    B = np.ones((points_num, 1))\n",
    "\n",
    "    cu_a = np.sum(points_a[:, 0])/points_num\n",
    "    cv_a = np.sum(points_a[:, 1])/points_num\n",
    "\n",
    "    s = points_num/np.sum(((points_a[:, 0]-cu_a)**2 + (points_a[:, 1]-cv_a)**2)**(1/2))\n",
    "    T_a =np.dot(np.array([[s, 0, 0], [0,s,0], [0,0,1]]), np.array([[1,0,-cu_a],[0,1,-cv_a],[0,0,1]]))\n",
    "\n",
    "    points_a = np.array(points_a.T)\n",
    "    points_a = np.append(points_a,B)\n",
    "\n",
    "    points_a = np.reshape(points_a, (3,points_num))\n",
    "    points_a = np.dot(T_a, points_a)\n",
    "    points_a = points_a.T\n",
    "\n",
    "    cu_b = np.sum(points_b[:,0])/points_num\n",
    "    cv_b = np.sum(points_b[:,1])/points_num\n",
    "\n",
    "    s = points_num/np.sum(((points_b[:,0]-cu_b)**2 + (points_b[:,1]-cv_b)**2)**(1/2))\n",
    "    T_b =np.dot(np.array([[s,0,0], [0,s,0], [0,0,1]]), np.array([[1,0,-cu_b],[0,1,-cv_b],[0,0,1]]))\n",
    "\n",
    "    points_b = np.array(points_b.T)\n",
    "    points_b = np.append(points_b,B)\n",
    "\n",
    "    points_b = np.reshape(points_b, (3,points_num))\n",
    "    points_b = np.dot(T_b, points_b)\n",
    "    points_b = points_b.T\n",
    "\n",
    "    for i in range(points_num):\n",
    "        u_a = points_a[i,0]\n",
    "        v_a = points_a[i,1]\n",
    "        u_b = points_b[i,0]\n",
    "        v_b = points_b[i,1]\n",
    "        A.append([u_a*u_b, v_a*u_b, u_b, u_a*v_b, v_a*v_b, v_b, u_a, v_a,1])\n",
    "\n",
    "    _,_,v = np.linalg.svd(A)\n",
    "    F = v[-1]\n",
    "\n",
    "    F = np.reshape(F,(3,3)).T\n",
    "    F = np.dot(T_a.T, F)\n",
    "    F = np.dot(F, T_b)\n",
    "\n",
    "    F = F.T\n",
    "    U,S,V = np.linalg.svd(F)\n",
    "    S = np.array([[S[0],0,0],[0,S[1],0],[0,0,0]])\n",
    "    F = np.dot(U, S)\n",
    "    F = np.dot(F, V)\n",
    "    \n",
    "    F = F/F[2,2]\n",
    "\n",
    "    return F\n",
    "\n",
    "def ransac_fundamental_matrix(matches_a, matches_b):\n",
    "    matches_num = matches_a.shape[0]\n",
    "    Best_count = 0\n",
    "\n",
    "    for iter in range(500):\n",
    "        sampled_idx = np.random.randint(0, matches_num, size = 8)\n",
    "        F = estimate_fundamental_matrix(matches_a[sampled_idx, :], matches_b[sampled_idx, :])\n",
    "        in_a = []\n",
    "        in_b = []\n",
    "        update = 0\n",
    "        for i in range(matches_num):\n",
    "            matches_aa = np.append(matches_a[i,:],1)\n",
    "            matches_bb = np.append(matches_b[i,:],1)\n",
    "            error = np.dot(matches_aa, F.T)\n",
    "            error = np.dot(error, matches_bb.T)\n",
    "            if abs(error) < 0.05:\n",
    "                in_a.append(matches_a[i,:])\n",
    "                in_b.append(matches_b[i,:])\n",
    "                update +=1\n",
    "\n",
    "        if update > Best_count:\n",
    "            Best_count = update\n",
    "            best_F = F\n",
    "            inliers_a = in_a\n",
    "            inliers_b = in_b\n",
    "\n",
    "    inliers_a = np.array(inliers_a)\n",
    "    inliers_b = np.array(inliers_b)\n",
    "\n",
    "    return best_F, inliers_a, inliers_b\n",
    "\n",
    "def EssentialMatrixFromFundamentalMatrix(F,K):\n",
    "    \n",
    "    \n",
    "    E = np.dot(K.T, np.dot(F, K))\n",
    "    U, S, V_T = np.linalg.svd(E)\n",
    "    \n",
    "    E = np.dot(U, np.dot(np.diag([1, 1, 0]), V_T))\n",
    "    return E\n",
    "\n",
    "def EstimateCameraPose(E, K):\n",
    "    \n",
    "    U,S,V_T = np.linalg.svd(E)\n",
    "    W = np.array([[0, -1, 0],[1, 0, 0],[0, 0, 1]])\n",
    "    \n",
    "    print(\"E svd U\", U)\n",
    "    print(\"E svd S\", S)\n",
    "    print(\"E svd U[:, 2]\", U[:, 2])\n",
    "    R = []\n",
    "    C = []\n",
    "    R.append(np.dot(U, np.dot(W, V_T)))\n",
    "    R.append(np.dot(U, np.dot(W, V_T)))\n",
    "    R.append(np.dot(U, np.dot(W.T, V_T)))\n",
    "    R.append(np.dot(U, np.dot(W.T, V_T)))\n",
    "    C.append(U[:, 2])\n",
    "    C.append(- U[:, 2])\n",
    "    C.append(U[:, 2])\n",
    "    C.append(-U[:, 2])\n",
    "    \n",
    "    for i in range(4):\n",
    "        if(np.linalg.det(R[i])<0):\n",
    "            R[i] = -R[i]\n",
    "            C[i] = -C[i]\n",
    "    \n",
    "    return R,C\n",
    "\n",
    "def skew(x):\n",
    "    return np.array([[0, -x[2], x[1]],\n",
    "                     [x[2], 0, x[0]],\n",
    "                     [x[1], x[0], 0]])\n",
    "\n",
    "\n",
    "def LinearTriangulation( K, C1, R1, C2, R2, x1, x2 ):\n",
    "\n",
    "    I = np.identity(3)\n",
    "    sz = x1.shape[0]\n",
    "    C2 = np.reshape(C2,(3,1))\n",
    "    P1 = np.dot(K, np.dot(R1, np.hstack((I, -C1))))\n",
    "    P2 = np.dot(K, np.dot(R2, np.hstack((I, -C2))))\n",
    "    \n",
    "#     print(P2.shape)\n",
    "    X1 = np.hstack((x1, np.ones((sz, 1))))\n",
    "    X2 = np.hstack((x2, np.ones((sz, 1))))\n",
    "\n",
    "\n",
    "    X = np.zeros((sz, 3))\n",
    "\n",
    "    for i in range(sz):\n",
    "        skew1 = skew(X1[i, :])\n",
    "        skew2 = skew(X2[i, :])\n",
    "        A = np.vstack((np.dot(skew1,P1),np.dot(skew2,P2)))\n",
    "        _,_,v = np.linalg.svd(A)\n",
    "        x = v[:,-1] / v[-1,-1]\n",
    "        x = np.reshape(x,(len(x),-1))\n",
    "        X[i,:] = x[0:3].T\n",
    "\n",
    "    return X\n",
    "\n",
    "def DisambiguateCameraPose( Cset, Rset, Xset):\n",
    "    best = 0\n",
    "    for i in range(4):\n",
    "        \n",
    "#         Cset[i] = np.reshape(Cset[i],(-1,-1))\n",
    "        N = Xset[i].shape[0]\n",
    "        n = 0\n",
    "        for j in range(N):\n",
    "            if ((np.dot(Rset[i][2, :],(Xset[i][j, :] - Cset[i])) > 0) and Xset[i][j, 2] >= 0):\n",
    "                n = n+1\n",
    "        if n > best:\n",
    "            C = Cset[i]\n",
    "            R = Rset[i]\n",
    "            X = Xset[i]\n",
    "            best = n\n",
    "\n",
    "    return X, R, C"
   ]
  },
  {
   "cell_type": "code",
   "execution_count": 28,
   "metadata": {},
   "outputs": [
    {
     "name": "stdout",
     "output_type": "stream",
     "text": [
      "(array([[ 0.05581521, -0.7056183 , -0.05191068],\n",
      "       [ 0.74830554, -0.03240967,  0.66116321],\n",
      "       [ 0.01005148, -0.69972804, -0.09178251]]), array([[ 1.84703311e-06, -2.53878052e-05,  9.80260713e-03],\n",
      "       [ 2.75318679e-05, -8.55838667e-07, -3.43091125e-03],\n",
      "       [-1.42542182e-02,  2.40308098e-03,  1.00000000e+00]]))\n",
      "('E svd U', array([[-0.0743755 ,  0.70581551, -0.70448048],\n",
      "       [-0.99714035, -0.06212467,  0.04303066],\n",
      "       [-0.01339391,  0.70566635,  0.70841768]]))\n",
      "('E svd S', array([1.0000000e+00, 1.0000000e+00, 3.3881734e-18]))\n",
      "('E svd U[:, 2]', array([-0.70448048,  0.04303066,  0.70841768]))\n"
     ]
    }
   ],
   "source": [
    "K = np.array([[568.996140852,0,643.21055941],\n",
    "     [0, 568.988362396, 477.982801038],\n",
    "     [0, 0, 1]])\n",
    "best_F, inliers_a, inliers_b = ransac_fundamental_matrix(np.int32(pts1),np.int32(pts2))\n",
    "E = EssentialMatrixFromFundamentalMatrix(best_F,K)\n",
    "print(E,best_F)\n",
    "R_set,C_set = EstimateCameraPose(E,K)"
   ]
  },
  {
   "cell_type": "code",
   "execution_count": 29,
   "metadata": {},
   "outputs": [],
   "source": [
    "X = []\n",
    "for i in range(4):\n",
    "    X.append(LinearTriangulation(K,np.zeros((3,1)),np.identity(3),C_set[i].T,R_set[i],np.int32(pts1),np.int32(pts2)))\n",
    "    "
   ]
  },
  {
   "cell_type": "code",
   "execution_count": 32,
   "metadata": {},
   "outputs": [
    {
     "data": {
      "text/plain": [
       "[array([[-0.06407128,  0.06817686, -0.99561377],\n",
       "        [ 0.0181815 , -0.99741831, -0.06947047],\n",
       "        [-0.99777969, -0.02255281,  0.06266631]]),\n",
       " array([[-0.06407128,  0.06817686, -0.99561377],\n",
       "        [ 0.0181815 , -0.99741831, -0.06947047],\n",
       "        [-0.99777969, -0.02255281,  0.06266631]]),\n",
       " array([[ 0.99528943,  0.0824772 , -0.05095544],\n",
       "        [-0.07506162,  0.98821615,  0.13339639],\n",
       "        [ 0.06135715, -0.12894322,  0.98975196]]),\n",
       " array([[ 0.99528943,  0.0824772 , -0.05095544],\n",
       "        [-0.07506162,  0.98821615,  0.13339639],\n",
       "        [ 0.06135715, -0.12894322,  0.98975196]])]"
      ]
     },
     "execution_count": 32,
     "metadata": {},
     "output_type": "execute_result"
    }
   ],
   "source": [
    "R_set"
   ]
  },
  {
   "cell_type": "code",
   "execution_count": 33,
   "metadata": {},
   "outputs": [
    {
     "data": {
      "text/plain": [
       "[array([-0.70448048,  0.04303066,  0.70841768]),\n",
       " array([ 0.70448048, -0.04303066, -0.70841768]),\n",
       " array([-0.70448048,  0.04303066,  0.70841768]),\n",
       " array([ 0.70448048, -0.04303066, -0.70841768])]"
      ]
     },
     "execution_count": 33,
     "metadata": {},
     "output_type": "execute_result"
    }
   ],
   "source": [
    "C_set"
   ]
  },
  {
   "cell_type": "code",
   "execution_count": 12,
   "metadata": {},
   "outputs": [
    {
     "data": {
      "text/plain": [
       "array([[ 1.59827187e-06, -2.30345998e-05,  9.05060978e-03],\n",
       "       [ 2.53981597e-05, -8.95446766e-07, -3.54387655e-03],\n",
       "       [-1.32382193e-02,  2.56584577e-03,  1.00000000e+00]])"
      ]
     },
     "execution_count": 12,
     "metadata": {},
     "output_type": "execute_result"
    }
   ],
   "source": [
    "best_F"
   ]
  },
  {
   "cell_type": "code",
   "execution_count": 34,
   "metadata": {},
   "outputs": [
    {
     "data": {
      "text/plain": [
       "array([[ -1.93519416, -10.52350292,   4.95181995],\n",
       "       [ -1.93519416, -10.52350292,   4.95181995],\n",
       "       [ -1.86861811, -10.14204735,   4.83532842],\n",
       "       ...,\n",
       "       [  2.77421365,   8.38710753,  -2.23900462],\n",
       "       [  3.11329257,   9.58175511,  -3.20384191],\n",
       "       [  3.13933805,   9.45059871,  -3.28685154]])"
      ]
     },
     "execution_count": 34,
     "metadata": {},
     "output_type": "execute_result"
    }
   ],
   "source": [
    "X_new, R, C = DisambiguateCameraPose(C_set, R_set, X)\n",
    "X_new"
   ]
  },
  {
   "cell_type": "code",
   "execution_count": 35,
   "metadata": {},
   "outputs": [
    {
     "data": {
      "text/plain": [
       "array([ 0.70448048, -0.04303066, -0.70841768])"
      ]
     },
     "execution_count": 35,
     "metadata": {},
     "output_type": "execute_result"
    }
   ],
   "source": [
    "C"
   ]
  },
  {
   "cell_type": "code",
   "execution_count": 8,
   "metadata": {},
   "outputs": [],
   "source": [
    "# X1_4\n",
    "X1_2 = X_new "
   ]
  },
  {
   "cell_type": "code",
   "execution_count": 9,
   "metadata": {},
   "outputs": [
    {
     "ename": "NameError",
     "evalue": "name 'all_X_new' is not defined",
     "output_type": "error",
     "traceback": [
      "\u001b[0;31m---\u001b[0m",
      "\u001b[0;31mNameError\u001b[0mTraceback (most recent call last)",
      "\u001b[0;32m<ipython-input-9-13de0b4e5e3e>\u001b[0m in \u001b[0;36m<module>\u001b[0;34m()\u001b[0m\n\u001b[0;32m----> 1\u001b[0;31m \u001b[0mall_X_new\u001b[0m \u001b[0;34m=\u001b[0m \u001b[0mnp\u001b[0m\u001b[0;34m.\u001b[0m\u001b[0mvstack\u001b[0m\u001b[0;34m(\u001b[0m\u001b[0;34m(\u001b[0m\u001b[0mall_X_new\u001b[0m\u001b[0;34m,\u001b[0m\u001b[0mX_new\u001b[0m\u001b[0;34m)\u001b[0m\u001b[0;34m)\u001b[0m\u001b[0;34m\u001b[0m\u001b[0m\n\u001b[0m",
      "\u001b[0;31mNameError\u001b[0m: name 'all_X_new' is not defined"
     ]
    }
   ],
   "source": [
    "all_X_new = np.vstack((all_X_new,X_new))"
   ]
  },
  {
   "cell_type": "code",
   "execution_count": 37,
   "metadata": {},
   "outputs": [],
   "source": [
    "all_X_new = X_new"
   ]
  },
  {
   "cell_type": "code",
   "execution_count": null,
   "metadata": {},
   "outputs": [],
   "source": [
    "%matplotlib inline"
   ]
  },
  {
   "cell_type": "code",
   "execution_count": 38,
   "metadata": {},
   "outputs": [
    {
     "data": {
      "image/png": "[encoded data removed]",
      "text/plain": [
       "<Figure size 432x288 with 1 Axes>"
      ]
     },
     "metadata": {
      "needs_background": "light"
     },
     "output_type": "display_data"
    }
   ],
   "source": [
    "\n",
    "\n",
    "fig = plt.figure()\n",
    "ax = plt.axes(projection='3d')\n",
    "# ax = plt.axes\n",
    "# Data for three-dimensional scattered points\n",
    "ax.scatter3D(all_X_new[:,0], all_X_new[:,1], all_X_new[:,2], c=all_X_new[:,2], cmap='viridis');  #viridis\n",
    "# plt.scatter(all_X_new[:,0], all_X_new[:,2], c=all_X_new[:,2], cmap='viridis');  #viridis\n",
    "ax.set_xlabel('x')\n",
    "ax.set_ylabel('y')\n",
    "ax.set_zlabel('z');"
   ]
  },
  {
   "cell_type": "code",
   "execution_count": 52,
   "metadata": {},
   "outputs": [
    {
     "data": {
      "text/plain": [
       "(-15, 15)"
      ]
     },
     "execution_count": 52,
     "metadata": {},
     "output_type": "execute_result"
    },
    {
     "data": {
      "image/png": "[encoded data removed]",
      "text/plain": [
       "<Figure size 432x288 with 1 Axes>"
      ]
     },
     "metadata": {
      "needs_background": "light"
     },
     "output_type": "display_data"
    }
   ],
   "source": [
    "\n",
    "\n",
    "# fig = plt.figure()\n",
    "# ax = plt.axes(projection='3d')\n",
    "# ax = plt.axes\n",
    "# Data for three-dimensional scattered points\n",
    "# ax.scatter3D(all_X_new[:,0], all_X_new[:,1], all_X_new[:,2], c=all_X_new[:,2], cmap='viridis');  #viridis\n",
    "plt.scatter(all_X_new[:,0], all_X_new[:,2], c=all_X_new[:,2], cmap='viridis',s = 1);  #viridis\n",
    "# plt.set_xlabel('x')\n",
    "# ax.set_ylabel('y')\n",
    "# plt.set_ylabel('z');\n",
    "axes = plt.gca()\n",
    "axes.set_xlim([-15,15])\n",
    "axes.set_ylim([-15,15])\n"
   ]
  },
  {
   "cell_type": "code",
   "execution_count": null,
   "metadata": {},
   "outputs": [],
   "source": [
    "def NonLinearTriangulation(K,x1,x2,X_init,R1,C1,R2,C2):\n",
    "    sz = x1.shape[0]\n",
    "    print(R2)\n",
    "    print(C2)\n",
    "    assert x1.shape[0] == x2.shape[0] == X_init.shape[0],\"2D-3D corresspondences have different shape \"\n",
    "    X = np.zeros((sz,3))\n",
    "\n",
    "    init = X_init.flatten()\n",
    "#     Tracer()()\n",
    "    optimized_params = opt.least_squares(fun=minimizeFunction, x0=init,method=\"dogbox\", args=[K,x1,x2,R1,C1,R2,C2])\n",
    " \n",
    "    X = np.reshape(optimized_params.x,(sz,3))\n",
    "\n",
    "\n",
    "    return X\n",
    "\n",
    "\n",
    "def minimizeFunction(init,K,x1,x2,R1,C1,R2,C2):\n",
    "\n",
    "    \n",
    "\n",
    "    sz = x1.shape[0]\n",
    "    X = np.reshape(init,(sz,3))\n",
    "\n",
    "    I = np.identity(3)\n",
    "    C2 = np.reshape(C2,(3,-1))\n",
    "    \n",
    "    X = np.hstack((X, np.ones((sz,1))))\n",
    "\n",
    "    P1 = np.dot(K, np.dot(R1, np.hstack((I, -C1))))\n",
    "    P2 = np.dot(K, np.dot(R2, np.hstack((I, -C2))))\n",
    "    \n",
    "    error1 = 0\n",
    "    error2 = 0\n",
    "    error = []\n",
    "#     for i in range(sz):\n",
    "#         u1 = np.divide((np.dot(P1[0,:],X[i].T).T) , (np.dot(P1[2,:],X[i].T).T))\n",
    "#         v1 = np.divide((np.dot(P1[1,:],X[i].T).T) , (np.dot(P1[2,:],X[i].T).T))\n",
    "#         u2 = np.divide((np.dot(P2[0,:],X[i].T).T) , (np.dot(P2[2,:],X[i].T).T))\n",
    "#         v2 = np.divide((np.dot(P2[1,:],X[i].T).T) , (np.dot(P2[2,:],X[i].T).T))\n",
    "        \n",
    "#         error1 += ((x1[i,0] - u1) + (x1[i,1] - v1))\n",
    "#         error2 += ((x2[i,0] - u2) + (x2[i,1] - v2))\n",
    "    \n",
    "    \n",
    "    \n",
    "#     error = error1+error2\n",
    "\n",
    "    u1 = np.divide((np.dot(P1[0,:],X.T).T) , (np.dot(P1[2,:],X.T).T))\n",
    "    v1 = np.divide((np.dot(P1[1,:],X.T).T) , (np.dot(P1[2,:],X.T).T))\n",
    "    u2 = np.divide((np.dot(P2[0,:],X.T).T) , (np.dot(P2[2,:],X.T).T))\n",
    "    v2 = np.divide((np.dot(P2[1,:],X.T).T) , (np.dot(P2[2,:],X.T).T))\n",
    "    \n",
    "#     print(u1.shape,x1.shape)\n",
    "    assert u1.shape[0] == x1.shape[0],\"shape not matched\"\n",
    "\n",
    "    error1 = ((x1[:,0] - u1) + (x1[:,1] - v1))\n",
    "    error2 = ((x2[:,0] - u2) + (x2[:,1] - v2))\n",
    "#     print(error1.shape)\n",
    "    error = sum(error1,error2)\n",
    "    \n",
    "    return sum(error)"
   ]
  },
  {
   "cell_type": "code",
   "execution_count": null,
   "metadata": {},
   "outputs": [],
   "source": [
    "X_final = NonLinearTriangulation(K,np.float32(pts1),np.float32(pts2),X_new,np.identity(3),np.zeros((3,1)),R,C)\n",
    "X_final"
   ]
  },
  {
   "cell_type": "code",
   "execution_count": 40,
   "metadata": {},
   "outputs": [
    {
     "ename": "NameError",
     "evalue": "name 'X_final' is not defined",
     "output_type": "error",
     "traceback": [
      "\u001b[0;31m---\u001b[0m",
      "\u001b[0;31mNameError\u001b[0mTraceback (most recent call last)",
      "\u001b[0;32m<ipython-input-40-016d8334c42a>\u001b[0m in \u001b[0;36m<module>\u001b[0;34m()\u001b[0m\n\u001b[1;32m      1\u001b[0m \u001b[0mplt\u001b[0m\u001b[0;34m.\u001b[0m\u001b[0mscatter\u001b[0m\u001b[0;34m(\u001b[0m\u001b[0mall_X_new\u001b[0m\u001b[0;34m[\u001b[0m\u001b[0;34m:\u001b[0m\u001b[0;34m,\u001b[0m\u001b[0;36m0\u001b[0m\u001b[0;34m]\u001b[0m\u001b[0;34m,\u001b[0m \u001b[0mall_X_new\u001b[0m\u001b[0;34m[\u001b[0m\u001b[0;34m:\u001b[0m\u001b[0;34m,\u001b[0m\u001b[0;36m2\u001b[0m\u001b[0;34m]\u001b[0m\u001b[0;34m,\u001b[0m \u001b[0mc\u001b[0m\u001b[0;34m=\u001b[0m\u001b[0mall_X_new\u001b[0m\u001b[0;34m[\u001b[0m\u001b[0;34m:\u001b[0m\u001b[0;34m,\u001b[0m\u001b[0;36m2\u001b[0m\u001b[0;34m]\u001b[0m\u001b[0;34m,\u001b[0m \u001b[0mcmap\u001b[0m\u001b[0;34m=\u001b[0m\u001b[0;34m'gray'\u001b[0m\u001b[0;34m,\u001b[0m \u001b[0mlinewidth\u001b[0m\u001b[0;34m=\u001b[0m\u001b[0;36m0.5\u001b[0m\u001b[0;34m)\u001b[0m\u001b[0;34m;\u001b[0m  \u001b[0;31m#viridis\u001b[0m\u001b[0;34m\u001b[0m\u001b[0m\n\u001b[1;32m      2\u001b[0m \u001b[0;34m\u001b[0m\u001b[0m\n\u001b[0;32m----> 3\u001b[0;31m \u001b[0mplt\u001b[0m\u001b[0;34m.\u001b[0m\u001b[0mscatter\u001b[0m\u001b[0;34m(\u001b[0m\u001b[0mX_final\u001b[0m\u001b[0;34m[\u001b[0m\u001b[0;34m:\u001b[0m\u001b[0;34m,\u001b[0m\u001b[0;36m0\u001b[0m\u001b[0;34m]\u001b[0m\u001b[0;34m,\u001b[0m \u001b[0mX_final\u001b[0m\u001b[0;34m[\u001b[0m\u001b[0;34m:\u001b[0m\u001b[0;34m,\u001b[0m\u001b[0;36m2\u001b[0m\u001b[0;34m]\u001b[0m\u001b[0;34m,\u001b[0m \u001b[0mc\u001b[0m\u001b[0;34m=\u001b[0m\u001b[0mX_final\u001b[0m\u001b[0;34m[\u001b[0m\u001b[0;34m:\u001b[0m\u001b[0;34m,\u001b[0m\u001b[0;36m2\u001b[0m\u001b[0;34m]\u001b[0m\u001b[0;34m,\u001b[0m \u001b[0mcmap\u001b[0m\u001b[0;34m=\u001b[0m\u001b[0;34m'Greens'\u001b[0m\u001b[0;34m,\u001b[0m \u001b[0mlinewidth\u001b[0m\u001b[0;34m=\u001b[0m\u001b[0;36m0.5\u001b[0m\u001b[0;34m)\u001b[0m\u001b[0;34m;\u001b[0m  \u001b[0;31m#viridis\u001b[0m\u001b[0;34m\u001b[0m\u001b[0m\n\u001b[0m\u001b[1;32m      4\u001b[0m \u001b[0;31m# plt.set_xlabel('x')\u001b[0m\u001b[0;34m\u001b[0m\u001b[0;34m\u001b[0m\u001b[0m\n\u001b[1;32m      5\u001b[0m \u001b[0;31m# ax.set_ylabel('y')\u001b[0m\u001b[0;34m\u001b[0m\u001b[0;34m\u001b[0m\u001b[0m\n",
      "\u001b[0;31mNameError\u001b[0m: name 'X_final' is not defined"
     ]
    },
    {
     "data": {
      "image/png": "[encoded data removed]",
      "text/plain": [
       "<Figure size 432x288 with 1 Axes>"
      ]
     },
     "metadata": {
      "needs_background": "light"
     },
     "output_type": "display_data"
    }
   ],
   "source": [
    "plt.scatter(all_X_new[:,0], all_X_new[:,2], c=all_X_new[:,2], cmap='gray', linewidth=0.5);  #viridis\n",
    "\n",
    "plt.scatter(X_final[:,0], X_final[:,2], c=X_final[:,2], cmap='Greens', linewidth=0.5);  #viridis\n",
    "# plt.set_xlabel('x')\n",
    "# ax.set_ylabel('y')\n",
    "# plt.set_ylabel('z');\n",
    "axes = plt.gca()\n",
    "axes.set_xlim([-20,20])\n",
    "axes.set_ylim([-20,20])"
   ]
  }
 ],
 "metadata": {
  "kernelspec": {
   "display_name": "Python 2",
   "language": "python",
   "name": "python2"
  },
  "language_info": {
   "codemirror_mode": {
    "name": "ipython",
    "version": 2
   },
   "file_extension": ".py",
   "mimetype": "text/x-python",
   "name": "python",
   "nbconvert_exporter": "python",
   "pygments_lexer": "ipython2",
   "version": "2.7.12"
  }
 },
 "nbformat": 4,
 "nbformat_minor": 2
}
